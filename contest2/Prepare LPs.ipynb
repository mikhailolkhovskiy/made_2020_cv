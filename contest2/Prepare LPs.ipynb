{
 "cells": [
  {
   "cell_type": "code",
   "execution_count": 1,
   "metadata": {},
   "outputs": [],
   "source": [
    "import os\n",
    "import gc\n",
    "import json\n",
    "import glob\n",
    "from collections import Counter\n",
    "\n",
    "import pandas as pd\n",
    "import numpy as np\n",
    "import matplotlib.pyplot as plt\n",
    "from matplotlib.path import Path\n",
    "import seaborn as sns\n",
    "import tqdm\n",
    "\n",
    "import torchvision\n",
    "from torchvision import models\n",
    "from torchvision.models.detection.faster_rcnn import FastRCNNPredictor\n",
    "from torchvision.models.detection.mask_rcnn import MaskRCNNPredictor\n",
    "from torchvision import transforms\n",
    "\n",
    "import PIL\n",
    "from PIL import Image, ImageDraw\n",
    "import cv2\n",
    "\n",
    "import torch\n",
    "import torch.nn as nn\n",
    "import torch.nn.functional as F\n",
    "from torch.utils.data import Dataset, DataLoader\n",
    "from recognition.common import abc, is_valid_str, convert_to_eng\n",
    "from os import walk\n",
    "from IPython.display import clear_output\n",
    "from torchvision import transforms\n",
    "import random\n",
    "import torchvision.transforms.functional as TF"
   ]
  },
  {
   "cell_type": "code",
   "execution_count": 48,
   "metadata": {},
   "outputs": [],
   "source": [
    "def load_json(file):\n",
    "    with open(file, 'r') as f:\n",
    "        return json.load(f)\n",
    "\n",
    "def four_point_transform(image, pts):\n",
    "    \n",
    "    rect = order_points(pts)\n",
    "    \n",
    "    tl, tr, br, bl = pts\n",
    "    \n",
    "    width_1 = np.sqrt(((br[0] - bl[0]) ** 2) + ((br[1] - bl[1]) ** 2))\n",
    "    width_2 = np.sqrt(((tr[0] - tl[0]) ** 2) + ((tr[1] - tl[1]) ** 2))\n",
    "    max_width = max(int(width_1), int(width_2))\n",
    "    \n",
    "    height_1 = np.sqrt(((tr[0] - br[0]) ** 2) + ((tr[1] - br[1]) ** 2))\n",
    "    height_2 = np.sqrt(((tl[0] - bl[0]) ** 2) + ((tl[1] - bl[1]) ** 2))\n",
    "    max_height = max(int(height_1), int(height_2))\n",
    "    \n",
    "    dst = np.array([\n",
    "        [0, 0],\n",
    "        [max_width, 0],\n",
    "        [max_width, max_height],\n",
    "        [0, max_height]], dtype = \"float32\")\n",
    "    \n",
    "    M = cv2.getPerspectiveTransform(rect, dst)\n",
    "    warped = cv2.warpPerspective(image, M, (max_width, max_height))\n",
    "    return warped\n",
    "\n",
    "def order_points(pts):\n",
    "    rect = np.zeros((4, 2), dtype = \"float32\")\n",
    "    \n",
    "    s = pts.sum(axis = 1)\n",
    "    rect[0] = pts[np.argmin(s)]\n",
    "    rect[2] = pts[np.argmax(s)]\n",
    "    \n",
    "    diff = np.diff(pts, axis = 1)\n",
    "    rect[1] = pts[np.argmin(diff)]\n",
    "    rect[3] = pts[np.argmax(diff)]\n",
    "    \n",
    "    return rect\n",
    "\n",
    "class Resize(object):\n",
    "    def __init__(self, size=(320, 64)):\n",
    "        self.size = size\n",
    "\n",
    "    def __call__(self, img):\n",
    "\n",
    "        w_from, h_from = img.shape[1], img.shape[0]\n",
    "        w_to, h_to = self.size\n",
    "        \n",
    "        # Сделаем разную интерполяцию при увеличении и уменьшении\n",
    "        # Если увеличиваем картинку, меняем интерполяцию\n",
    "        interpolation = cv2.INTER_AREA\n",
    "        if w_to > w_from:\n",
    "            interpolation = cv2.INTER_CUBIC\n",
    "        \n",
    "        img = cv2.resize(img, dsize=self.size, interpolation=interpolation)\n",
    "        return img\n",
    "    \n",
    "def show_image(image, figsize=(8, 4), reverse=False):\n",
    "    plt.figure(figsize=figsize)\n",
    "    if reverse:\n",
    "        plt.imshow(image[...,::-1])\n",
    "    else:\n",
    "        plt.imshow(image)\n",
    "    plt.axis('off')\n",
    "    plt.show()    "
   ]
  },
  {
   "cell_type": "code",
   "execution_count": 200,
   "metadata": {},
   "outputs": [],
   "source": [
    "OUT_PATH = '/home/mikhailo/dev/python/made/cv-2020/hw/hw2/bl2/lplates'\n",
    "OUT_GEN_PATH = '/home/mikhailo/dev/python/made/cv-2020/hw/hw2/bl2/lplates_generated'\n",
    "DATA_PATH = '/home/mikhailo/dev/python/made/cv-2020/hw/hw2/data/'"
   ]
  },
  {
   "cell_type": "code",
   "execution_count": 35,
   "metadata": {},
   "outputs": [],
   "source": [
    "all_marks = load_json(os.path.join(DATA_PATH, 'train.json'))"
   ]
  },
  {
   "cell_type": "code",
   "execution_count": 37,
   "metadata": {},
   "outputs": [
    {
     "name": "stderr",
     "output_type": "stream",
     "text": [
      "                                                     \r"
     ]
    }
   ],
   "source": [
    "resize = Resize()\n",
    "for i, elem in tqdm.tqdm(enumerate(all_marks), leave=False, position=0, total=len(all_marks)):\n",
    "    img_path = os.path.join(DATA_PATH, elem['file'])\n",
    "    img = cv2.imread(img_path)\n",
    "    if img is None:\n",
    "        continue\n",
    "    for j, true_box in enumerate(elem['nums']):\n",
    "        text = true_box['text']\n",
    "        text = convert_to_eng(text.upper())  # samples can have russian characters or lower case\n",
    "        if not is_valid_str(text):\n",
    "            print(\"Invalid text\", text)\n",
    "            continue            \n",
    "        crop_name = os.path.join(OUT_PATH, text + \".jpg\")\n",
    "\n",
    "        box = true_box['box']\n",
    "#         print(text, box, crop_name)\n",
    "        crop = resize(four_point_transform(img, np.asarray(box)))\n",
    "#         print(crop.shape)\n",
    "        cv2.imwrite(crop_name, crop)\n",
    "#     if i > 100:\n",
    "#         break\n",
    "       \n"
   ]
  },
  {
   "cell_type": "code",
   "execution_count": 236,
   "metadata": {},
   "outputs": [
    {
     "name": "stdout",
     "output_type": "stream",
     "text": [
      "/home/mikhailo/dev/python/made/cv-2020/hw/hw2/data/generated_60k н851ху113.png\n",
      "(50, 235, 3)\n"
     ]
    },
    {
     "data": {
      "image/png": "[encoded data removed]",
      "text/plain": [
       "<Figure size 576x288 with 1 Axes>"
      ]
     },
     "metadata": {
      "needs_background": "light"
     },
     "output_type": "display_data"
    },
    {
     "data": {
      "image/png": "[encoded data removed]",
      "text/plain": [
       "<Figure size 576x288 with 1 Axes>"
      ]
     },
     "metadata": {
      "needs_background": "light"
     },
     "output_type": "display_data"
    },
    {
     "data": {
      "image/png": "[encoded data removed]",
      "text/plain": [
       "<Figure size 576x288 with 1 Axes>"
      ]
     },
     "metadata": {
      "needs_background": "light"
     },
     "output_type": "display_data"
    },
    {
     "data": {
      "image/png": "[encoded data removed]",
      "text/plain": [
       "<Figure size 576x288 with 1 Axes>"
      ]
     },
     "metadata": {
      "needs_background": "light"
     },
     "output_type": "display_data"
    },
    {
     "data": {
      "image/png": "[encoded data removed]",
      "text/plain": [
       "<Figure size 576x288 with 1 Axes>"
      ]
     },
     "metadata": {
      "needs_background": "light"
     },
     "output_type": "display_data"
    },
    {
     "data": {
      "image/png": "[encoded data removed]",
      "text/plain": [
       "<Figure size 576x288 with 1 Axes>"
      ]
     },
     "metadata": {
      "needs_background": "light"
     },
     "output_type": "display_data"
    },
    {
     "data": {
      "image/png": "[encoded data removed]",
      "text/plain": [
       "<Figure size 576x288 with 1 Axes>"
      ]
     },
     "metadata": {
      "needs_background": "light"
     },
     "output_type": "display_data"
    }
   ],
   "source": [
    "def random_transform(img, h=64, w=320):\n",
    "    pil_img = transforms.functional.to_pil_image(img)\n",
    "    pil_img = TF.resize(pil_img, (h, w), PIL.Image.BICUBIC)\n",
    "    if random.random() > 0.2:\n",
    "        angle = random.randint(-3, 3)\n",
    "        translate = random.randint(-5, 5)\n",
    "        shear = 0\n",
    "        if random.random() > 0.5:\n",
    "            shear = random.randint(-20, 20)\n",
    "        pil_img = TF.affine(\n",
    "            pil_img, \n",
    "            angle, \n",
    "            (translate, 0), # translate\n",
    "            1., # scale\n",
    "            (shear, 0),\n",
    "            PIL.Image.BICUBIC\n",
    "        )\n",
    "    r = random.random() \n",
    "    if random.random() > 0.6:\n",
    "        pil_img = TF.adjust_contrast(pil_img, 0.05 + r * 0.2)\n",
    "    else:\n",
    "        if random.random() > 0.6:\n",
    "            pil_img = TF.adjust_brightness(pil_img, 0.1 + r * 0.2)\n",
    "    if random.random() > 0.7:\n",
    "        k = random.randint(2, 4)\n",
    "        pil_img = TF.resize(pil_img, (h//k, w//k), PIL.Image.NEAREST)\n",
    "        pil_img = TF.resize(pil_img, (h, w), PIL.Image.BICUBIC)\n",
    "    return pil_img\n",
    "\n",
    "i = 0\n",
    "for (dirpath, dirnames, filenames) in walk(os.path.join(DATA_PATH, 'generated_60k')):\n",
    "    for file in filenames:\n",
    "        print(dirpath, file)\n",
    "        img_path = os.path.join(dirpath, file)\n",
    "        img = cv2.imread(img_path)\n",
    "        print(img.shape)\n",
    "        h, w,_ = img.shape\n",
    "        show_image(img)\n",
    "        show_image(random_transform(img))\n",
    "        pil_img = transforms.functional.to_pil_image(img)\n",
    "        show_image(transforms.functional.perspective(\n",
    "            pil_img, \n",
    "            startpoints = [[5,0],[w - 5, 0], [5, h], [w - 5, h]], \n",
    "            endpoints = [[0, 0], [w - 10, 0], [10, h], [w, h]], \n",
    "            interpolation=3))\n",
    "        show_image(transforms.functional.affine(\n",
    "            pil_img, \n",
    "            3, \n",
    "            (0, 0), # translate\n",
    "            1., # scale\n",
    "            (20, 0),\n",
    "            PIL.Image.BICUBIC\n",
    "        ))\n",
    "        show_image(transforms.functional.adjust_gamma(pil_img, 20))\n",
    "        show_image(transforms.functional.adjust_contrast(pil_img, 0.05))\n",
    "        show_image(transforms.functional.adjust_brightness(pil_img, 0.1))\n",
    "        \n",
    "#         show_image()\n",
    "        i += 1\n",
    "        if i > 0:\n",
    "            break"
   ]
  },
  {
   "cell_type": "code",
   "execution_count": 240,
   "metadata": {},
   "outputs": [
    {
     "name": "stderr",
     "output_type": "stream",
     "text": [
      "  0%|          | 136/59987 [00:00<02:59, 333.39it/s]"
     ]
    },
    {
     "name": "stdout",
     "output_type": "stream",
     "text": [
      "/home/mikhailo/dev/python/made/cv-2020/hw/hw2/data/generated_60k/н276сх147.png\n"
     ]
    },
    {
     "name": "stderr",
     "output_type": "stream",
     "text": [
      "  0%|          | 235/59987 [00:00<03:02, 326.81it/s]"
     ]
    },
    {
     "name": "stdout",
     "output_type": "stream",
     "text": [
      "/home/mikhailo/dev/python/made/cv-2020/hw/hw2/data/generated_60k/у720нв32.png\n"
     ]
    },
    {
     "name": "stderr",
     "output_type": "stream",
     "text": [
      "  1%|          | 367/59987 [00:01<03:04, 322.47it/s]"
     ]
    },
    {
     "name": "stdout",
     "output_type": "stream",
     "text": [
      "/home/mikhailo/dev/python/made/cv-2020/hw/hw2/data/generated_60k/к754рм116.png\n"
     ]
    },
    {
     "name": "stderr",
     "output_type": "stream",
     "text": [
      "  1%|▏         | 827/59987 [00:02<02:50, 347.07it/s]"
     ]
    },
    {
     "name": "stdout",
     "output_type": "stream",
     "text": [
      "/home/mikhailo/dev/python/made/cv-2020/hw/hw2/data/generated_60k/о770ет38.png\n",
      "/home/mikhailo/dev/python/made/cv-2020/hw/hw2/data/generated_60k/н618ву70.png\n",
      "/home/mikhailo/dev/python/made/cv-2020/hw/hw2/data/generated_60k/в360кв199.png\n"
     ]
    },
    {
     "name": "stderr",
     "output_type": "stream",
     "text": [
      "  2%|▏         | 1177/59987 [00:03<03:00, 325.32it/s]"
     ]
    },
    {
     "name": "stdout",
     "output_type": "stream",
     "text": [
      "/home/mikhailo/dev/python/made/cv-2020/hw/hw2/data/generated_60k/р976рс116.png\n"
     ]
    },
    {
     "name": "stderr",
     "output_type": "stream",
     "text": [
      "  2%|▏         | 1427/59987 [00:04<02:49, 345.80it/s]"
     ]
    },
    {
     "name": "stdout",
     "output_type": "stream",
     "text": [
      "/home/mikhailo/dev/python/made/cv-2020/hw/hw2/data/generated_60k/р848тн159.png\n"
     ]
    },
    {
     "name": "stderr",
     "output_type": "stream",
     "text": [
      "  3%|▎         | 1861/59987 [00:05<02:42, 358.31it/s]"
     ]
    },
    {
     "name": "stdout",
     "output_type": "stream",
     "text": [
      "/home/mikhailo/dev/python/made/cv-2020/hw/hw2/data/generated_60k/к439кн78.png\n"
     ]
    },
    {
     "name": "stderr",
     "output_type": "stream",
     "text": [
      "  3%|▎         | 1967/59987 [00:05<02:50, 340.46it/s]"
     ]
    },
    {
     "name": "stdout",
     "output_type": "stream",
     "text": [
      "/home/mikhailo/dev/python/made/cv-2020/hw/hw2/data/generated_60k/т441хм763.png\n"
     ]
    },
    {
     "name": "stderr",
     "output_type": "stream",
     "text": [
      "  3%|▎         | 2070/59987 [00:06<02:57, 326.57it/s]"
     ]
    },
    {
     "name": "stdout",
     "output_type": "stream",
     "text": [
      "/home/mikhailo/dev/python/made/cv-2020/hw/hw2/data/generated_60k/м049хр38.png\n"
     ]
    },
    {
     "name": "stderr",
     "output_type": "stream",
     "text": [
      "  4%|▎         | 2205/59987 [00:06<02:55, 329.16it/s]"
     ]
    },
    {
     "name": "stdout",
     "output_type": "stream",
     "text": [
      "/home/mikhailo/dev/python/made/cv-2020/hw/hw2/data/generated_60k/т601во62.png\n"
     ]
    },
    {
     "name": "stderr",
     "output_type": "stream",
     "text": [
      "  4%|▍         | 2414/59987 [00:07<02:46, 344.85it/s]"
     ]
    },
    {
     "name": "stdout",
     "output_type": "stream",
     "text": [
      "/home/mikhailo/dev/python/made/cv-2020/hw/hw2/data/generated_60k/у258му78.png\n"
     ]
    },
    {
     "name": "stderr",
     "output_type": "stream",
     "text": [
      "  5%|▍         | 2734/59987 [00:08<02:55, 326.75it/s]"
     ]
    },
    {
     "name": "stdout",
     "output_type": "stream",
     "text": [
      "/home/mikhailo/dev/python/made/cv-2020/hw/hw2/data/generated_60k/к226ру68.png\n",
      "/home/mikhailo/dev/python/made/cv-2020/hw/hw2/data/generated_60k/т070ус01.png\n"
     ]
    },
    {
     "name": "stderr",
     "output_type": "stream",
     "text": [
      "  5%|▍         | 2972/59987 [00:08<02:52, 329.74it/s]"
     ]
    },
    {
     "name": "stdout",
     "output_type": "stream",
     "text": [
      "/home/mikhailo/dev/python/made/cv-2020/hw/hw2/data/generated_60k/е204аа40.png\n"
     ]
    },
    {
     "name": "stderr",
     "output_type": "stream",
     "text": [
      "  5%|▌         | 3039/59987 [00:09<02:55, 324.48it/s]"
     ]
    },
    {
     "name": "stdout",
     "output_type": "stream",
     "text": [
      "/home/mikhailo/dev/python/made/cv-2020/hw/hw2/data/generated_60k/н894ус147.png\n"
     ]
    },
    {
     "name": "stderr",
     "output_type": "stream",
     "text": [
      "  5%|▌         | 3250/59987 [00:09<02:47, 338.60it/s]"
     ]
    },
    {
     "name": "stdout",
     "output_type": "stream",
     "text": [
      "/home/mikhailo/dev/python/made/cv-2020/hw/hw2/data/generated_60k/к241ор35.png\n",
      "/home/mikhailo/dev/python/made/cv-2020/hw/hw2/data/generated_60k/а635мн186.png\n",
      "/home/mikhailo/dev/python/made/cv-2020/hw/hw2/data/generated_60k/м755ес45.png\n"
     ]
    },
    {
     "name": "stderr",
     "output_type": "stream",
     "text": [
      "  6%|▌         | 3667/59987 [00:10<02:45, 339.59it/s]"
     ]
    },
    {
     "name": "stdout",
     "output_type": "stream",
     "text": [
      "/home/mikhailo/dev/python/made/cv-2020/hw/hw2/data/generated_60k/у719ум67.png\n"
     ]
    },
    {
     "name": "stderr",
     "output_type": "stream",
     "text": [
      "  7%|▋         | 4047/59987 [00:12<02:42, 343.31it/s]"
     ]
    },
    {
     "name": "stdout",
     "output_type": "stream",
     "text": [
      "/home/mikhailo/dev/python/made/cv-2020/hw/hw2/data/generated_60k/с764тк67.png\n"
     ]
    },
    {
     "name": "stderr",
     "output_type": "stream",
     "text": [
      "  7%|▋         | 4188/59987 [00:12<02:45, 337.06it/s]"
     ]
    },
    {
     "name": "stdout",
     "output_type": "stream",
     "text": [
      "/home/mikhailo/dev/python/made/cv-2020/hw/hw2/data/generated_60k/с917ок03.png\n",
      "/home/mikhailo/dev/python/made/cv-2020/hw/hw2/data/generated_60k/о818вм68.png\n"
     ]
    },
    {
     "name": "stderr",
     "output_type": "stream",
     "text": [
      "  7%|▋         | 4327/59987 [00:12<02:44, 339.21it/s]"
     ]
    },
    {
     "name": "stdout",
     "output_type": "stream",
     "text": [
      "/home/mikhailo/dev/python/made/cv-2020/hw/hw2/data/generated_60k/а290ув07.png\n"
     ]
    },
    {
     "name": "stderr",
     "output_type": "stream",
     "text": [
      "  7%|▋         | 4430/59987 [00:13<02:44, 338.27it/s]"
     ]
    },
    {
     "name": "stdout",
     "output_type": "stream",
     "text": [
      "/home/mikhailo/dev/python/made/cv-2020/hw/hw2/data/generated_60k/а833нр126.png\n"
     ]
    },
    {
     "name": "stderr",
     "output_type": "stream",
     "text": [
      "  8%|▊         | 4846/59987 [00:14<02:46, 330.76it/s]"
     ]
    },
    {
     "name": "stdout",
     "output_type": "stream",
     "text": [
      "/home/mikhailo/dev/python/made/cv-2020/hw/hw2/data/generated_60k/к398ер16.png\n"
     ]
    },
    {
     "name": "stderr",
     "output_type": "stream",
     "text": [
      "  8%|▊         | 4954/59987 [00:14<02:39, 345.26it/s]"
     ]
    },
    {
     "name": "stdout",
     "output_type": "stream",
     "text": [
      "/home/mikhailo/dev/python/made/cv-2020/hw/hw2/data/generated_60k/т695хн44.png\n",
      "/home/mikhailo/dev/python/made/cv-2020/hw/hw2/data/generated_60k/в651не94.png\n"
     ]
    },
    {
     "name": "stderr",
     "output_type": "stream",
     "text": [
      "  9%|▉         | 5452/59987 [00:16<02:46, 327.27it/s]"
     ]
    },
    {
     "name": "stdout",
     "output_type": "stream",
     "text": [
      "/home/mikhailo/dev/python/made/cv-2020/hw/hw2/data/generated_60k/а583ст27.png\n"
     ]
    },
    {
     "name": "stderr",
     "output_type": "stream",
     "text": [
      "  9%|▉         | 5556/59987 [00:16<02:42, 335.39it/s]"
     ]
    },
    {
     "name": "stdout",
     "output_type": "stream",
     "text": [
      "/home/mikhailo/dev/python/made/cv-2020/hw/hw2/data/generated_60k/с716он43.png\n"
     ]
    },
    {
     "name": "stderr",
     "output_type": "stream",
     "text": [
      " 10%|▉         | 5729/59987 [00:17<02:53, 312.30it/s]"
     ]
    },
    {
     "name": "stdout",
     "output_type": "stream",
     "text": [
      "/home/mikhailo/dev/python/made/cv-2020/hw/hw2/data/generated_60k/в433еа95.png\n",
      "/home/mikhailo/dev/python/made/cv-2020/hw/hw2/data/generated_60k/р314ех11.png\n",
      "/home/mikhailo/dev/python/made/cv-2020/hw/hw2/data/generated_60k/в685са93.png\n"
     ]
    },
    {
     "name": "stderr",
     "output_type": "stream",
     "text": [
      " 10%|▉         | 5862/59987 [00:17<02:46, 324.39it/s]"
     ]
    },
    {
     "name": "stdout",
     "output_type": "stream",
     "text": [
      "/home/mikhailo/dev/python/made/cv-2020/hw/hw2/data/generated_60k/у417тн67.png\n",
      "/home/mikhailo/dev/python/made/cv-2020/hw/hw2/data/generated_60k/у762сн41.png\n"
     ]
    },
    {
     "name": "stderr",
     "output_type": "stream",
     "text": [
      " 10%|█         | 6038/59987 [00:18<02:38, 339.31it/s]"
     ]
    },
    {
     "name": "stdout",
     "output_type": "stream",
     "text": [
      "/home/mikhailo/dev/python/made/cv-2020/hw/hw2/data/generated_60k/в155тк14.png\n",
      "/home/mikhailo/dev/python/made/cv-2020/hw/hw2/data/generated_60k/е431рк33.png\n"
     ]
    },
    {
     "name": "stderr",
     "output_type": "stream",
     "text": [
      " 11%|█         | 6541/59987 [00:19<02:32, 349.77it/s]"
     ]
    },
    {
     "name": "stdout",
     "output_type": "stream",
     "text": [
      "/home/mikhailo/dev/python/made/cv-2020/hw/hw2/data/generated_60k/о621хв70.png\n"
     ]
    },
    {
     "name": "stderr",
     "output_type": "stream",
     "text": [
      " 11%|█         | 6646/59987 [00:19<02:42, 328.75it/s]"
     ]
    },
    {
     "name": "stdout",
     "output_type": "stream",
     "text": [
      "/home/mikhailo/dev/python/made/cv-2020/hw/hw2/data/generated_60k/с094хс199.png\n",
      "/home/mikhailo/dev/python/made/cv-2020/hw/hw2/data/generated_60k/е896ес26.png\n"
     ]
    },
    {
     "name": "stderr",
     "output_type": "stream",
     "text": [
      " 12%|█▏        | 6913/59987 [00:20<02:48, 314.59it/s]"
     ]
    },
    {
     "name": "stdout",
     "output_type": "stream",
     "text": [
      "/home/mikhailo/dev/python/made/cv-2020/hw/hw2/data/generated_60k/в121ак716.png\n"
     ]
    },
    {
     "name": "stderr",
     "output_type": "stream",
     "text": [
      " 12%|█▏        | 7017/59987 [00:20<02:40, 330.62it/s]"
     ]
    },
    {
     "name": "stdout",
     "output_type": "stream",
     "text": [
      "/home/mikhailo/dev/python/made/cv-2020/hw/hw2/data/generated_60k/е712ме47.png\n"
     ]
    },
    {
     "name": "stderr",
     "output_type": "stream",
     "text": [
      " 12%|█▏        | 7256/59987 [00:21<02:36, 336.18it/s]"
     ]
    },
    {
     "name": "stdout",
     "output_type": "stream",
     "text": [
      "/home/mikhailo/dev/python/made/cv-2020/hw/hw2/data/generated_60k/р822мм40.png\n"
     ]
    },
    {
     "name": "stderr",
     "output_type": "stream",
     "text": [
      " 13%|█▎        | 7634/59987 [00:22<02:30, 347.08it/s]"
     ]
    },
    {
     "name": "stdout",
     "output_type": "stream",
     "text": [
      "/home/mikhailo/dev/python/made/cv-2020/hw/hw2/data/generated_60k/к571ах99.png\n",
      "/home/mikhailo/dev/python/made/cv-2020/hw/hw2/data/generated_60k/н347ам84.png\n"
     ]
    },
    {
     "name": "stderr",
     "output_type": "stream",
     "text": [
      " 13%|█▎        | 7738/59987 [00:23<02:36, 333.85it/s]"
     ]
    },
    {
     "name": "stdout",
     "output_type": "stream",
     "text": [
      "/home/mikhailo/dev/python/made/cv-2020/hw/hw2/data/generated_60k/в401ха05.png\n"
     ]
    },
    {
     "name": "stderr",
     "output_type": "stream",
     "text": [
      " 13%|█▎        | 7807/59987 [00:23<02:35, 335.56it/s]"
     ]
    },
    {
     "name": "stdout",
     "output_type": "stream",
     "text": [
      "/home/mikhailo/dev/python/made/cv-2020/hw/hw2/data/generated_60k/м602ху22.png\n",
      "/home/mikhailo/dev/python/made/cv-2020/hw/hw2/data/generated_60k/в004хт113.png\n"
     ]
    },
    {
     "name": "stderr",
     "output_type": "stream",
     "text": [
      " 13%|█▎        | 8025/59987 [00:23<02:26, 354.84it/s]"
     ]
    },
    {
     "name": "stdout",
     "output_type": "stream",
     "text": [
      "/home/mikhailo/dev/python/made/cv-2020/hw/hw2/data/generated_60k/р861ск14.png\n",
      "/home/mikhailo/dev/python/made/cv-2020/hw/hw2/data/generated_60k/с092са134.png\n"
     ]
    },
    {
     "name": "stderr",
     "output_type": "stream",
     "text": [
      " 14%|█▎        | 8211/59987 [00:24<02:23, 360.76it/s]"
     ]
    },
    {
     "name": "stdout",
     "output_type": "stream",
     "text": [
      "/home/mikhailo/dev/python/made/cv-2020/hw/hw2/data/generated_60k/т856ун20.png\n",
      "/home/mikhailo/dev/python/made/cv-2020/hw/hw2/data/generated_60k/х542км55.png\n"
     ]
    },
    {
     "name": "stderr",
     "output_type": "stream",
     "text": [
      " 14%|█▍        | 8285/59987 [00:24<02:26, 353.42it/s]"
     ]
    },
    {
     "name": "stdout",
     "output_type": "stream",
     "text": [
      "/home/mikhailo/dev/python/made/cv-2020/hw/hw2/data/generated_60k/р906оу15.png\n",
      "/home/mikhailo/dev/python/made/cv-2020/hw/hw2/data/generated_60k/у980но49.png\n"
     ]
    },
    {
     "name": "stderr",
     "output_type": "stream",
     "text": [
      " 14%|█▍        | 8639/59987 [00:25<02:29, 343.85it/s]"
     ]
    },
    {
     "name": "stdout",
     "output_type": "stream",
     "text": [
      "/home/mikhailo/dev/python/made/cv-2020/hw/hw2/data/generated_60k/х113вм68.png\n"
     ]
    },
    {
     "name": "stderr",
     "output_type": "stream",
     "text": [
      " 15%|█▍        | 8783/59987 [00:26<02:36, 326.22it/s]"
     ]
    },
    {
     "name": "stdout",
     "output_type": "stream",
     "text": [
      "/home/mikhailo/dev/python/made/cv-2020/hw/hw2/data/generated_60k/н201ун138.png\n"
     ]
    },
    {
     "name": "stderr",
     "output_type": "stream",
     "text": [
      " 15%|█▍        | 8855/59987 [00:26<02:30, 339.23it/s]"
     ]
    },
    {
     "name": "stdout",
     "output_type": "stream",
     "text": [
      "/home/mikhailo/dev/python/made/cv-2020/hw/hw2/data/generated_60k/х997уо29.png\n"
     ]
    },
    {
     "name": "stderr",
     "output_type": "stream",
     "text": [
      " 15%|█▌        | 9095/59987 [00:27<02:45, 306.80it/s]"
     ]
    },
    {
     "name": "stdout",
     "output_type": "stream",
     "text": [
      "/home/mikhailo/dev/python/made/cv-2020/hw/hw2/data/generated_60k/о564ср164.png\n"
     ]
    },
    {
     "name": "stderr",
     "output_type": "stream",
     "text": [
      " 15%|█▌        | 9296/59987 [00:27<02:33, 330.92it/s]"
     ]
    },
    {
     "name": "stdout",
     "output_type": "stream",
     "text": [
      "/home/mikhailo/dev/python/made/cv-2020/hw/hw2/data/generated_60k/к111рх85.png\n"
     ]
    },
    {
     "name": "stderr",
     "output_type": "stream",
     "text": [
      " 16%|█▌        | 9364/59987 [00:28<02:44, 307.17it/s]"
     ]
    },
    {
     "name": "stdout",
     "output_type": "stream",
     "text": [
      "/home/mikhailo/dev/python/made/cv-2020/hw/hw2/data/generated_60k/к731ве190.png\n"
     ]
    },
    {
     "name": "stderr",
     "output_type": "stream",
     "text": [
      " 16%|█▌        | 9427/59987 [00:28<02:47, 301.84it/s]"
     ]
    },
    {
     "name": "stdout",
     "output_type": "stream",
     "text": [
      "/home/mikhailo/dev/python/made/cv-2020/hw/hw2/data/generated_60k/х535ас96.png\n",
      "/home/mikhailo/dev/python/made/cv-2020/hw/hw2/data/generated_60k/т336рн190.png\n"
     ]
    },
    {
     "name": "stderr",
     "output_type": "stream",
     "text": [
      " 16%|█▌        | 9670/59987 [00:28<02:26, 344.19it/s]"
     ]
    },
    {
     "name": "stdout",
     "output_type": "stream",
     "text": [
      "/home/mikhailo/dev/python/made/cv-2020/hw/hw2/data/generated_60k/е331уу163.png\n"
     ]
    },
    {
     "name": "stderr",
     "output_type": "stream",
     "text": [
      " 17%|█▋        | 9922/59987 [00:29<02:23, 349.29it/s]"
     ]
    },
    {
     "name": "stdout",
     "output_type": "stream",
     "text": [
      "/home/mikhailo/dev/python/made/cv-2020/hw/hw2/data/generated_60k/а895ан08.png\n"
     ]
    },
    {
     "name": "stderr",
     "output_type": "stream",
     "text": [
      " 17%|█▋        | 10031/59987 [00:29<02:23, 348.50it/s]"
     ]
    },
    {
     "name": "stdout",
     "output_type": "stream",
     "text": [
      "/home/mikhailo/dev/python/made/cv-2020/hw/hw2/data/generated_60k/н120оо138.png\n"
     ]
    },
    {
     "name": "stderr",
     "output_type": "stream",
     "text": [
      " 17%|█▋        | 10312/59987 [00:30<02:22, 349.26it/s]"
     ]
    },
    {
     "name": "stdout",
     "output_type": "stream",
     "text": [
      "/home/mikhailo/dev/python/made/cv-2020/hw/hw2/data/generated_60k/у466ум763.png\n",
      "/home/mikhailo/dev/python/made/cv-2020/hw/hw2/data/generated_60k/р826вс90.png\n"
     ]
    },
    {
     "name": "stderr",
     "output_type": "stream",
     "text": [
      " 17%|█▋        | 10383/59987 [00:31<02:26, 338.66it/s]"
     ]
    },
    {
     "name": "stdout",
     "output_type": "stream",
     "text": [
      "/home/mikhailo/dev/python/made/cv-2020/hw/hw2/data/generated_60k/о981вн19.png\n"
     ]
    },
    {
     "name": "stderr",
     "output_type": "stream",
     "text": [
      " 17%|█▋        | 10452/59987 [00:31<02:28, 334.60it/s]"
     ]
    },
    {
     "name": "stdout",
     "output_type": "stream",
     "text": [
      "/home/mikhailo/dev/python/made/cv-2020/hw/hw2/data/generated_60k/р788еа150.png\n"
     ]
    },
    {
     "name": "stderr",
     "output_type": "stream",
     "text": [
      " 18%|█▊        | 10664/59987 [00:31<02:22, 346.92it/s]"
     ]
    },
    {
     "name": "stdout",
     "output_type": "stream",
     "text": [
      "/home/mikhailo/dev/python/made/cv-2020/hw/hw2/data/generated_60k/а365ао30.png\n",
      "/home/mikhailo/dev/python/made/cv-2020/hw/hw2/data/generated_60k/е823св84.png\n"
     ]
    },
    {
     "name": "stderr",
     "output_type": "stream",
     "text": [
      " 18%|█▊        | 10737/59987 [00:32<02:22, 345.67it/s]"
     ]
    },
    {
     "name": "stdout",
     "output_type": "stream",
     "text": [
      "/home/mikhailo/dev/python/made/cv-2020/hw/hw2/data/generated_60k/с460ме08.png\n"
     ]
    },
    {
     "name": "stderr",
     "output_type": "stream",
     "text": [
      " 18%|█▊        | 10847/59987 [00:32<02:22, 343.74it/s]"
     ]
    },
    {
     "name": "stdout",
     "output_type": "stream",
     "text": [
      "/home/mikhailo/dev/python/made/cv-2020/hw/hw2/data/generated_60k/х071ух59.png\n",
      "/home/mikhailo/dev/python/made/cv-2020/hw/hw2/data/generated_60k/в082км123.png\n"
     ]
    },
    {
     "name": "stderr",
     "output_type": "stream",
     "text": [
      " 19%|█▊        | 11241/59987 [00:33<02:20, 348.01it/s]"
     ]
    },
    {
     "name": "stdout",
     "output_type": "stream",
     "text": [
      "/home/mikhailo/dev/python/made/cv-2020/hw/hw2/data/generated_60k/х921ур34.png\n",
      "/home/mikhailo/dev/python/made/cv-2020/hw/hw2/data/generated_60k/в849ка83.png\n",
      "/home/mikhailo/dev/python/made/cv-2020/hw/hw2/data/generated_60k/с397тт159.png\n"
     ]
    },
    {
     "name": "stderr",
     "output_type": "stream",
     "text": [
      " 19%|█▉        | 11380/59987 [00:33<02:26, 331.27it/s]"
     ]
    },
    {
     "name": "stdout",
     "output_type": "stream",
     "text": [
      "/home/mikhailo/dev/python/made/cv-2020/hw/hw2/data/generated_60k/у540вк136.png\n"
     ]
    },
    {
     "name": "stderr",
     "output_type": "stream",
     "text": [
      " 19%|█▉        | 11483/59987 [00:34<02:25, 333.41it/s]"
     ]
    },
    {
     "name": "stdout",
     "output_type": "stream",
     "text": [
      "/home/mikhailo/dev/python/made/cv-2020/hw/hw2/data/generated_60k/о227вх02.png\n"
     ]
    },
    {
     "name": "stderr",
     "output_type": "stream",
     "text": [
      " 20%|██        | 12140/59987 [00:36<02:29, 320.29it/s]"
     ]
    },
    {
     "name": "stdout",
     "output_type": "stream",
     "text": [
      "/home/mikhailo/dev/python/made/cv-2020/hw/hw2/data/generated_60k/о666см142.png\n"
     ]
    },
    {
     "name": "stderr",
     "output_type": "stream",
     "text": [
      " 21%|██        | 12518/59987 [00:37<02:19, 339.19it/s]"
     ]
    },
    {
     "name": "stdout",
     "output_type": "stream",
     "text": [
      "/home/mikhailo/dev/python/made/cv-2020/hw/hw2/data/generated_60k/р134ут43.png\n"
     ]
    },
    {
     "name": "stderr",
     "output_type": "stream",
     "text": [
      " 21%|██        | 12627/59987 [00:37<02:14, 350.96it/s]"
     ]
    },
    {
     "name": "stdout",
     "output_type": "stream",
     "text": [
      "/home/mikhailo/dev/python/made/cv-2020/hw/hw2/data/generated_60k/р627хк97.png\n",
      "/home/mikhailo/dev/python/made/cv-2020/hw/hw2/data/generated_60k/м765рр19.png\n"
     ]
    },
    {
     "name": "stderr",
     "output_type": "stream",
     "text": [
      " 22%|██▏       | 13456/59987 [00:40<02:18, 336.94it/s]"
     ]
    },
    {
     "name": "stdout",
     "output_type": "stream",
     "text": [
      "/home/mikhailo/dev/python/made/cv-2020/hw/hw2/data/generated_60k/а640еу96.png\n"
     ]
    },
    {
     "name": "stderr",
     "output_type": "stream",
     "text": [
      " 23%|██▎       | 13698/59987 [00:40<02:17, 335.98it/s]"
     ]
    },
    {
     "name": "stdout",
     "output_type": "stream",
     "text": [
      "/home/mikhailo/dev/python/made/cv-2020/hw/hw2/data/generated_60k/к420мс57.png\n",
      "/home/mikhailo/dev/python/made/cv-2020/hw/hw2/data/generated_60k/с928еа161.png\n"
     ]
    },
    {
     "name": "stderr",
     "output_type": "stream",
     "text": [
      " 23%|██▎       | 13799/59987 [00:41<02:20, 328.85it/s]"
     ]
    },
    {
     "name": "stdout",
     "output_type": "stream",
     "text": [
      "/home/mikhailo/dev/python/made/cv-2020/hw/hw2/data/generated_60k/с955су136.png\n",
      "/home/mikhailo/dev/python/made/cv-2020/hw/hw2/data/generated_60k/в760ка92.png\n"
     ]
    },
    {
     "name": "stderr",
     "output_type": "stream",
     "text": [
      " 24%|██▍       | 14434/59987 [00:43<02:13, 340.97it/s]"
     ]
    },
    {
     "name": "stdout",
     "output_type": "stream",
     "text": [
      "/home/mikhailo/dev/python/made/cv-2020/hw/hw2/data/generated_60k/о246ку77.png\n",
      "/home/mikhailo/dev/python/made/cv-2020/hw/hw2/data/generated_60k/х801ом43.png\n"
     ]
    },
    {
     "name": "stderr",
     "output_type": "stream",
     "text": [
      " 24%|██▍       | 14610/59987 [00:43<02:10, 348.13it/s]"
     ]
    },
    {
     "name": "stdout",
     "output_type": "stream",
     "text": [
      "/home/mikhailo/dev/python/made/cv-2020/hw/hw2/data/generated_60k/к217он35.png\n"
     ]
    },
    {
     "name": "stderr",
     "output_type": "stream",
     "text": [
      " 25%|██▍       | 14826/59987 [00:44<02:09, 348.92it/s]"
     ]
    },
    {
     "name": "stdout",
     "output_type": "stream",
     "text": [
      "/home/mikhailo/dev/python/made/cv-2020/hw/hw2/data/generated_60k/у167ен750.png\n"
     ]
    },
    {
     "name": "stderr",
     "output_type": "stream",
     "text": [
      " 25%|██▌       | 15043/59987 [00:44<02:05, 357.38it/s]"
     ]
    },
    {
     "name": "stdout",
     "output_type": "stream",
     "text": [
      "/home/mikhailo/dev/python/made/cv-2020/hw/hw2/data/generated_60k/н708ук89.png\n",
      "/home/mikhailo/dev/python/made/cv-2020/hw/hw2/data/generated_60k/м922кн08.png\n"
     ]
    },
    {
     "name": "stderr",
     "output_type": "stream",
     "text": [
      " 25%|██▌       | 15149/59987 [00:45<02:14, 334.00it/s]"
     ]
    },
    {
     "name": "stdout",
     "output_type": "stream",
     "text": [
      "/home/mikhailo/dev/python/made/cv-2020/hw/hw2/data/generated_60k/н900вм74.png\n"
     ]
    },
    {
     "name": "stderr",
     "output_type": "stream",
     "text": [
      " 25%|██▌       | 15252/59987 [00:45<02:13, 334.43it/s]"
     ]
    },
    {
     "name": "stdout",
     "output_type": "stream",
     "text": [
      "/home/mikhailo/dev/python/made/cv-2020/hw/hw2/data/generated_60k/а588рс116.png\n"
     ]
    },
    {
     "name": "stderr",
     "output_type": "stream",
     "text": [
      " 26%|██▌       | 15487/59987 [00:46<02:22, 311.37it/s]"
     ]
    },
    {
     "name": "stdout",
     "output_type": "stream",
     "text": [
      "/home/mikhailo/dev/python/made/cv-2020/hw/hw2/data/generated_60k/в654нк173.png\n"
     ]
    },
    {
     "name": "stderr",
     "output_type": "stream",
     "text": [
      " 26%|██▌       | 15555/59987 [00:46<02:17, 322.24it/s]"
     ]
    },
    {
     "name": "stdout",
     "output_type": "stream",
     "text": [
      "/home/mikhailo/dev/python/made/cv-2020/hw/hw2/data/generated_60k/а326рм09.png\n"
     ]
    },
    {
     "name": "stderr",
     "output_type": "stream",
     "text": [
      " 26%|██▌       | 15690/59987 [00:46<02:20, 315.90it/s]"
     ]
    },
    {
     "name": "stdout",
     "output_type": "stream",
     "text": [
      "/home/mikhailo/dev/python/made/cv-2020/hw/hw2/data/generated_60k/х428ум77.png\n",
      "/home/mikhailo/dev/python/made/cv-2020/hw/hw2/data/generated_60k/м818от02.png\n"
     ]
    },
    {
     "name": "stderr",
     "output_type": "stream",
     "text": [
      " 26%|██▋       | 15799/59987 [00:47<02:09, 340.08it/s]"
     ]
    },
    {
     "name": "stdout",
     "output_type": "stream",
     "text": [
      "/home/mikhailo/dev/python/made/cv-2020/hw/hw2/data/generated_60k/а447ка47.png\n"
     ]
    },
    {
     "name": "stderr",
     "output_type": "stream",
     "text": [
      " 27%|██▋       | 16039/59987 [00:47<02:17, 320.27it/s]"
     ]
    },
    {
     "name": "stdout",
     "output_type": "stream",
     "text": [
      "/home/mikhailo/dev/python/made/cv-2020/hw/hw2/data/generated_60k/р127ен67.png\n",
      "/home/mikhailo/dev/python/made/cv-2020/hw/hw2/data/generated_60k/х159ук36.png\n"
     ]
    },
    {
     "name": "stderr",
     "output_type": "stream",
     "text": [
      " 27%|██▋       | 16179/59987 [00:48<02:09, 338.18it/s]"
     ]
    },
    {
     "name": "stdout",
     "output_type": "stream",
     "text": [
      "/home/mikhailo/dev/python/made/cv-2020/hw/hw2/data/generated_60k/т319ан777.png\n",
      "/home/mikhailo/dev/python/made/cv-2020/hw/hw2/data/generated_60k/в175ма02.png\n",
      "/home/mikhailo/dev/python/made/cv-2020/hw/hw2/data/generated_60k/у372рв60.png\n"
     ]
    },
    {
     "name": "stderr",
     "output_type": "stream",
     "text": [
      " 28%|██▊       | 16598/59987 [00:49<02:04, 347.28it/s]"
     ]
    },
    {
     "name": "stdout",
     "output_type": "stream",
     "text": [
      "/home/mikhailo/dev/python/made/cv-2020/hw/hw2/data/generated_60k/к643ер47.png\n",
      "/home/mikhailo/dev/python/made/cv-2020/hw/hw2/data/generated_60k/у544мт06.png\n"
     ]
    },
    {
     "name": "stderr",
     "output_type": "stream",
     "text": [
      " 28%|██▊       | 16670/59987 [00:49<02:04, 348.04it/s]"
     ]
    },
    {
     "name": "stdout",
     "output_type": "stream",
     "text": [
      "/home/mikhailo/dev/python/made/cv-2020/hw/hw2/data/generated_60k/р359кс05.png\n",
      "/home/mikhailo/dev/python/made/cv-2020/hw/hw2/data/generated_60k/м204вр77.png\n",
      "/home/mikhailo/dev/python/made/cv-2020/hw/hw2/data/generated_60k/у693ан75.png\n",
      "/home/mikhailo/dev/python/made/cv-2020/hw/hw2/data/generated_60k/н409мо06.png\n"
     ]
    },
    {
     "name": "stderr",
     "output_type": "stream",
     "text": [
      " 28%|██▊       | 16847/59987 [00:50<02:05, 344.49it/s]"
     ]
    },
    {
     "name": "stdout",
     "output_type": "stream",
     "text": [
      "/home/mikhailo/dev/python/made/cv-2020/hw/hw2/data/generated_60k/а712ха196.png\n",
      "/home/mikhailo/dev/python/made/cv-2020/hw/hw2/data/generated_60k/т113ум33.png\n",
      "/home/mikhailo/dev/python/made/cv-2020/hw/hw2/data/generated_60k/т414ао173.png\n"
     ]
    },
    {
     "name": "stderr",
     "output_type": "stream",
     "text": [
      " 29%|██▊       | 17122/59987 [00:51<02:07, 336.81it/s]"
     ]
    },
    {
     "name": "stdout",
     "output_type": "stream",
     "text": [
      "/home/mikhailo/dev/python/made/cv-2020/hw/hw2/data/generated_60k/р425ус763.png\n"
     ]
    },
    {
     "name": "stderr",
     "output_type": "stream",
     "text": [
      " 29%|██▊       | 17190/59987 [00:51<02:10, 328.44it/s]"
     ]
    },
    {
     "name": "stdout",
     "output_type": "stream",
     "text": [
      "/home/mikhailo/dev/python/made/cv-2020/hw/hw2/data/generated_60k/у362мв61.png\n"
     ]
    },
    {
     "name": "stderr",
     "output_type": "stream",
     "text": [
      " 29%|██▉       | 17607/59987 [00:52<02:01, 347.44it/s]"
     ]
    },
    {
     "name": "stdout",
     "output_type": "stream",
     "text": [
      "/home/mikhailo/dev/python/made/cv-2020/hw/hw2/data/generated_60k/р418ке138.png\n",
      "/home/mikhailo/dev/python/made/cv-2020/hw/hw2/data/generated_60k/у669тк52.png\n"
     ]
    },
    {
     "name": "stderr",
     "output_type": "stream",
     "text": [
      " 30%|███       | 18066/59987 [00:53<02:02, 341.06it/s]"
     ]
    },
    {
     "name": "stdout",
     "output_type": "stream",
     "text": [
      "/home/mikhailo/dev/python/made/cv-2020/hw/hw2/data/generated_60k/с299рх09.png\n"
     ]
    },
    {
     "name": "stderr",
     "output_type": "stream",
     "text": [
      " 30%|███       | 18170/59987 [00:54<02:04, 335.27it/s]"
     ]
    },
    {
     "name": "stdout",
     "output_type": "stream",
     "text": [
      "/home/mikhailo/dev/python/made/cv-2020/hw/hw2/data/generated_60k/т821ха68.png\n"
     ]
    },
    {
     "name": "stderr",
     "output_type": "stream",
     "text": [
      " 31%|███       | 18374/59987 [00:54<02:09, 322.48it/s]"
     ]
    },
    {
     "name": "stdout",
     "output_type": "stream",
     "text": [
      "/home/mikhailo/dev/python/made/cv-2020/hw/hw2/data/generated_60k/у699тв65.png\n"
     ]
    },
    {
     "name": "stderr",
     "output_type": "stream",
     "text": [
      " 31%|███▏      | 18786/59987 [00:56<02:06, 325.22it/s]"
     ]
    },
    {
     "name": "stdout",
     "output_type": "stream",
     "text": [
      "/home/mikhailo/dev/python/made/cv-2020/hw/hw2/data/generated_60k/у383вв29.png\n"
     ]
    },
    {
     "name": "stderr",
     "output_type": "stream",
     "text": [
      " 31%|███▏      | 18891/59987 [00:56<02:03, 333.23it/s]"
     ]
    },
    {
     "name": "stdout",
     "output_type": "stream",
     "text": [
      "/home/mikhailo/dev/python/made/cv-2020/hw/hw2/data/generated_60k/р831тх15.png\n"
     ]
    },
    {
     "name": "stderr",
     "output_type": "stream",
     "text": [
      " 32%|███▏      | 19105/59987 [00:57<02:00, 338.77it/s]"
     ]
    },
    {
     "name": "stdout",
     "output_type": "stream",
     "text": [
      "/home/mikhailo/dev/python/made/cv-2020/hw/hw2/data/generated_60k/к172ах49.png\n"
     ]
    },
    {
     "name": "stderr",
     "output_type": "stream",
     "text": [
      " 32%|███▏      | 19347/59987 [00:57<02:02, 331.92it/s]"
     ]
    },
    {
     "name": "stdout",
     "output_type": "stream",
     "text": [
      "/home/mikhailo/dev/python/made/cv-2020/hw/hw2/data/generated_60k/м460тв45.png\n",
      "/home/mikhailo/dev/python/made/cv-2020/hw/hw2/data/generated_60k/с682ав86.png\n"
     ]
    },
    {
     "name": "stderr",
     "output_type": "stream",
     "text": [
      " 32%|███▏      | 19487/59987 [00:58<01:59, 338.20it/s]"
     ]
    },
    {
     "name": "stdout",
     "output_type": "stream",
     "text": [
      "/home/mikhailo/dev/python/made/cv-2020/hw/hw2/data/generated_60k/е764су06.png\n"
     ]
    },
    {
     "name": "stderr",
     "output_type": "stream",
     "text": [
      " 33%|███▎      | 19659/59987 [00:58<01:58, 341.00it/s]"
     ]
    },
    {
     "name": "stdout",
     "output_type": "stream",
     "text": [
      "/home/mikhailo/dev/python/made/cv-2020/hw/hw2/data/generated_60k/а178ве93.png\n"
     ]
    },
    {
     "name": "stderr",
     "output_type": "stream",
     "text": [
      " 34%|███▍      | 20623/59987 [01:01<01:54, 343.01it/s]"
     ]
    },
    {
     "name": "stdout",
     "output_type": "stream",
     "text": [
      "/home/mikhailo/dev/python/made/cv-2020/hw/hw2/data/generated_60k/к673ео29.png\n"
     ]
    },
    {
     "name": "stderr",
     "output_type": "stream",
     "text": [
      " 35%|███▍      | 20728/59987 [01:01<01:55, 341.12it/s]"
     ]
    },
    {
     "name": "stdout",
     "output_type": "stream",
     "text": [
      "/home/mikhailo/dev/python/made/cv-2020/hw/hw2/data/generated_60k/у409ем01.png\n",
      "/home/mikhailo/dev/python/made/cv-2020/hw/hw2/data/generated_60k/е949ох64.png\n",
      "/home/mikhailo/dev/python/made/cv-2020/hw/hw2/data/generated_60k/т124вв90.png\n"
     ]
    },
    {
     "name": "stderr",
     "output_type": "stream",
     "text": [
      " 35%|███▍      | 20871/59987 [01:02<02:00, 325.61it/s]"
     ]
    },
    {
     "name": "stdout",
     "output_type": "stream",
     "text": [
      "/home/mikhailo/dev/python/made/cv-2020/hw/hw2/data/generated_60k/с435нм60.png\n",
      "/home/mikhailo/dev/python/made/cv-2020/hw/hw2/data/generated_60k/у197ку57.png\n"
     ]
    },
    {
     "name": "stderr",
     "output_type": "stream",
     "text": [
      " 35%|███▌      | 21144/59987 [01:03<01:58, 327.79it/s]"
     ]
    },
    {
     "name": "stdout",
     "output_type": "stream",
     "text": [
      "/home/mikhailo/dev/python/made/cv-2020/hw/hw2/data/generated_60k/к556ав56.png\n",
      "/home/mikhailo/dev/python/made/cv-2020/hw/hw2/data/generated_60k/р157сх95.png\n"
     ]
    },
    {
     "name": "stderr",
     "output_type": "stream",
     "text": [
      " 36%|███▌      | 21484/59987 [01:04<02:00, 319.23it/s]"
     ]
    },
    {
     "name": "stdout",
     "output_type": "stream",
     "text": [
      "/home/mikhailo/dev/python/made/cv-2020/hw/hw2/data/generated_60k/у271тн163.png\n"
     ]
    },
    {
     "name": "stderr",
     "output_type": "stream",
     "text": [
      " 36%|███▌      | 21652/59987 [01:04<02:00, 318.82it/s]"
     ]
    },
    {
     "name": "stdout",
     "output_type": "stream",
     "text": [
      "/home/mikhailo/dev/python/made/cv-2020/hw/hw2/data/generated_60k/в567ао52.png\n"
     ]
    },
    {
     "name": "stderr",
     "output_type": "stream",
     "text": [
      " 36%|███▋      | 21819/59987 [01:05<02:04, 307.33it/s]"
     ]
    },
    {
     "name": "stdout",
     "output_type": "stream",
     "text": [
      "/home/mikhailo/dev/python/made/cv-2020/hw/hw2/data/generated_60k/с667ср10.png\n"
     ]
    },
    {
     "name": "stderr",
     "output_type": "stream",
     "text": [
      " 37%|███▋      | 22093/59987 [01:06<01:53, 333.15it/s]"
     ]
    },
    {
     "name": "stdout",
     "output_type": "stream",
     "text": [
      "/home/mikhailo/dev/python/made/cv-2020/hw/hw2/data/generated_60k/н042кс41.png\n",
      "/home/mikhailo/dev/python/made/cv-2020/hw/hw2/data/generated_60k/в477ру58.png\n"
     ]
    },
    {
     "name": "stderr",
     "output_type": "stream",
     "text": [
      " 37%|███▋      | 22268/59987 [01:06<01:53, 331.59it/s]"
     ]
    },
    {
     "name": "stdout",
     "output_type": "stream",
     "text": [
      "/home/mikhailo/dev/python/made/cv-2020/hw/hw2/data/generated_60k/р668ар147.png\n"
     ]
    },
    {
     "name": "stderr",
     "output_type": "stream",
     "text": [
      " 37%|███▋      | 22337/59987 [01:06<01:51, 336.73it/s]"
     ]
    },
    {
     "name": "stdout",
     "output_type": "stream",
     "text": [
      "/home/mikhailo/dev/python/made/cv-2020/hw/hw2/data/generated_60k/х948нт74.png\n"
     ]
    },
    {
     "name": "stderr",
     "output_type": "stream",
     "text": [
      " 38%|███▊      | 22646/59987 [01:07<01:49, 342.20it/s]"
     ]
    },
    {
     "name": "stdout",
     "output_type": "stream",
     "text": [
      "/home/mikhailo/dev/python/made/cv-2020/hw/hw2/data/generated_60k/т085ху08.png\n",
      "/home/mikhailo/dev/python/made/cv-2020/hw/hw2/data/generated_60k/е428тр82.png\n"
     ]
    },
    {
     "name": "stderr",
     "output_type": "stream",
     "text": [
      " 38%|███▊      | 22819/59987 [01:08<01:57, 316.15it/s]"
     ]
    },
    {
     "name": "stdout",
     "output_type": "stream",
     "text": [
      "/home/mikhailo/dev/python/made/cv-2020/hw/hw2/data/generated_60k/н169уо35.png\n",
      "/home/mikhailo/dev/python/made/cv-2020/hw/hw2/data/generated_60k/р980ве10.png\n",
      "/home/mikhailo/dev/python/made/cv-2020/hw/hw2/data/generated_60k/е112ух116.png\n"
     ]
    },
    {
     "name": "stderr",
     "output_type": "stream",
     "text": [
      " 38%|███▊      | 23034/59987 [01:09<01:49, 337.85it/s]"
     ]
    },
    {
     "name": "stdout",
     "output_type": "stream",
     "text": [
      "/home/mikhailo/dev/python/made/cv-2020/hw/hw2/data/generated_60k/о760хм71.png\n"
     ]
    },
    {
     "name": "stderr",
     "output_type": "stream",
     "text": [
      " 39%|███▊      | 23216/59987 [01:09<01:46, 344.86it/s]"
     ]
    },
    {
     "name": "stdout",
     "output_type": "stream",
     "text": [
      "/home/mikhailo/dev/python/made/cv-2020/hw/hw2/data/generated_60k/в440ек04.png\n"
     ]
    },
    {
     "name": "stderr",
     "output_type": "stream",
     "text": [
      " 39%|███▉      | 23460/59987 [01:10<01:49, 334.50it/s]"
     ]
    },
    {
     "name": "stdout",
     "output_type": "stream",
     "text": [
      "/home/mikhailo/dev/python/made/cv-2020/hw/hw2/data/generated_60k/у942рс142.png\n",
      "/home/mikhailo/dev/python/made/cv-2020/hw/hw2/data/generated_60k/у785хт18.png\n",
      "/home/mikhailo/dev/python/made/cv-2020/hw/hw2/data/generated_60k/с359кх57.png\n"
     ]
    },
    {
     "name": "stderr",
     "output_type": "stream",
     "text": [
      " 39%|███▉      | 23528/59987 [01:10<01:48, 336.21it/s]"
     ]
    },
    {
     "name": "stdout",
     "output_type": "stream",
     "text": [
      "/home/mikhailo/dev/python/made/cv-2020/hw/hw2/data/generated_60k/о995мв716.png\n"
     ]
    },
    {
     "name": "stderr",
     "output_type": "stream",
     "text": [
      " 40%|███▉      | 23699/59987 [01:11<01:48, 334.64it/s]"
     ]
    },
    {
     "name": "stdout",
     "output_type": "stream",
     "text": [
      "/home/mikhailo/dev/python/made/cv-2020/hw/hw2/data/generated_60k/т077са777.png\n"
     ]
    },
    {
     "name": "stderr",
     "output_type": "stream",
     "text": [
      " 40%|███▉      | 23802/59987 [01:11<01:48, 335.01it/s]"
     ]
    },
    {
     "name": "stdout",
     "output_type": "stream",
     "text": [
      "/home/mikhailo/dev/python/made/cv-2020/hw/hw2/data/generated_60k/о848нн142.png\n",
      "/home/mikhailo/dev/python/made/cv-2020/hw/hw2/data/generated_60k/н506ам196.png\n"
     ]
    },
    {
     "name": "stderr",
     "output_type": "stream",
     "text": [
      " 40%|███▉      | 23909/59987 [01:11<01:45, 343.50it/s]"
     ]
    },
    {
     "name": "stdout",
     "output_type": "stream",
     "text": [
      "/home/mikhailo/dev/python/made/cv-2020/hw/hw2/data/generated_60k/т262ам26.png\n"
     ]
    },
    {
     "name": "stderr",
     "output_type": "stream",
     "text": [
      " 40%|████      | 24151/59987 [01:12<01:51, 322.17it/s]"
     ]
    },
    {
     "name": "stdout",
     "output_type": "stream",
     "text": [
      "/home/mikhailo/dev/python/made/cv-2020/hw/hw2/data/generated_60k/м182еу35.png\n"
     ]
    },
    {
     "name": "stderr",
     "output_type": "stream",
     "text": [
      " 40%|████      | 24256/59987 [01:12<01:47, 331.72it/s]"
     ]
    },
    {
     "name": "stdout",
     "output_type": "stream",
     "text": [
      "/home/mikhailo/dev/python/made/cv-2020/hw/hw2/data/generated_60k/с291са71.png\n",
      "/home/mikhailo/dev/python/made/cv-2020/hw/hw2/data/generated_60k/о419рх53.png\n"
     ]
    },
    {
     "name": "stderr",
     "output_type": "stream",
     "text": [
      " 41%|████      | 24502/59987 [01:13<01:43, 344.16it/s]"
     ]
    },
    {
     "name": "stdout",
     "output_type": "stream",
     "text": [
      "/home/mikhailo/dev/python/made/cv-2020/hw/hw2/data/generated_60k/у432ук82.png\n"
     ]
    },
    {
     "name": "stderr",
     "output_type": "stream",
     "text": [
      " 41%|████      | 24643/59987 [01:13<01:43, 342.22it/s]"
     ]
    },
    {
     "name": "stdout",
     "output_type": "stream",
     "text": [
      "/home/mikhailo/dev/python/made/cv-2020/hw/hw2/data/generated_60k/к531нв14.png\n"
     ]
    },
    {
     "name": "stderr",
     "output_type": "stream",
     "text": [
      " 41%|████      | 24713/59987 [01:14<01:43, 340.39it/s]"
     ]
    },
    {
     "name": "stdout",
     "output_type": "stream",
     "text": [
      "/home/mikhailo/dev/python/made/cv-2020/hw/hw2/data/generated_60k/а971во28.png\n"
     ]
    },
    {
     "name": "stderr",
     "output_type": "stream",
     "text": [
      " 42%|████▏     | 24957/59987 [01:14<01:42, 341.33it/s]"
     ]
    },
    {
     "name": "stdout",
     "output_type": "stream",
     "text": [
      "/home/mikhailo/dev/python/made/cv-2020/hw/hw2/data/generated_60k/н699ек31.png\n",
      "/home/mikhailo/dev/python/made/cv-2020/hw/hw2/data/generated_60k/х691то50.png\n"
     ]
    },
    {
     "name": "stderr",
     "output_type": "stream",
     "text": [
      " 42%|████▏     | 25101/59987 [01:15<01:39, 350.64it/s]"
     ]
    },
    {
     "name": "stdout",
     "output_type": "stream",
     "text": [
      "/home/mikhailo/dev/python/made/cv-2020/hw/hw2/data/generated_60k/в935то777.png\n"
     ]
    },
    {
     "name": "stderr",
     "output_type": "stream",
     "text": [
      " 42%|████▏     | 25207/59987 [01:15<01:42, 338.61it/s]"
     ]
    },
    {
     "name": "stdout",
     "output_type": "stream",
     "text": [
      "/home/mikhailo/dev/python/made/cv-2020/hw/hw2/data/generated_60k/м702мн90.png\n"
     ]
    },
    {
     "name": "stderr",
     "output_type": "stream",
     "text": [
      " 42%|████▏     | 25492/59987 [01:16<01:39, 347.30it/s]"
     ]
    },
    {
     "name": "stdout",
     "output_type": "stream",
     "text": [
      "/home/mikhailo/dev/python/made/cv-2020/hw/hw2/data/generated_60k/в262еа62.png\n",
      "/home/mikhailo/dev/python/made/cv-2020/hw/hw2/data/generated_60k/н450от18.png\n"
     ]
    },
    {
     "name": "stderr",
     "output_type": "stream",
     "text": [
      " 43%|████▎     | 25704/59987 [01:16<01:38, 346.33it/s]"
     ]
    },
    {
     "name": "stdout",
     "output_type": "stream",
     "text": [
      "/home/mikhailo/dev/python/made/cv-2020/hw/hw2/data/generated_60k/т536кс63.png\n"
     ]
    },
    {
     "name": "stderr",
     "output_type": "stream",
     "text": [
      " 43%|████▎     | 25810/59987 [01:17<01:40, 339.23it/s]"
     ]
    },
    {
     "name": "stdout",
     "output_type": "stream",
     "text": [
      "/home/mikhailo/dev/python/made/cv-2020/hw/hw2/data/generated_60k/у013тр35.png\n"
     ]
    },
    {
     "name": "stderr",
     "output_type": "stream",
     "text": [
      " 44%|████▎     | 26239/59987 [01:18<01:43, 326.51it/s]"
     ]
    },
    {
     "name": "stdout",
     "output_type": "stream",
     "text": [
      "/home/mikhailo/dev/python/made/cv-2020/hw/hw2/data/generated_60k/р912ус68.png\n"
     ]
    },
    {
     "name": "stderr",
     "output_type": "stream",
     "text": [
      " 44%|████▍     | 26305/59987 [01:18<01:44, 321.01it/s]"
     ]
    },
    {
     "name": "stdout",
     "output_type": "stream",
     "text": [
      "/home/mikhailo/dev/python/made/cv-2020/hw/hw2/data/generated_60k/р941хк22.png\n",
      "/home/mikhailo/dev/python/made/cv-2020/hw/hw2/data/generated_60k/к096тх97.png\n"
     ]
    },
    {
     "name": "stderr",
     "output_type": "stream",
     "text": [
      " 44%|████▍     | 26522/59987 [01:19<01:37, 343.73it/s]"
     ]
    },
    {
     "name": "stdout",
     "output_type": "stream",
     "text": [
      "/home/mikhailo/dev/python/made/cv-2020/hw/hw2/data/generated_60k/р236сх10.png\n"
     ]
    },
    {
     "name": "stderr",
     "output_type": "stream",
     "text": [
      " 45%|████▍     | 26903/59987 [01:20<01:36, 341.95it/s]"
     ]
    },
    {
     "name": "stdout",
     "output_type": "stream",
     "text": [
      "/home/mikhailo/dev/python/made/cv-2020/hw/hw2/data/generated_60k/м319хв80.png\n",
      "/home/mikhailo/dev/python/made/cv-2020/hw/hw2/data/generated_60k/в998нк81.png\n",
      "/home/mikhailo/dev/python/made/cv-2020/hw/hw2/data/generated_60k/н288ус08.png\n",
      "/home/mikhailo/dev/python/made/cv-2020/hw/hw2/data/generated_60k/р347вт46.png\n"
     ]
    },
    {
     "name": "stderr",
     "output_type": "stream",
     "text": [
      " 45%|████▌     | 27256/59987 [01:21<01:36, 337.62it/s]"
     ]
    },
    {
     "name": "stdout",
     "output_type": "stream",
     "text": [
      "/home/mikhailo/dev/python/made/cv-2020/hw/hw2/data/generated_60k/у036ка94.png\n"
     ]
    },
    {
     "name": "stderr",
     "output_type": "stream",
     "text": [
      " 47%|████▋     | 27986/59987 [01:23<01:36, 332.63it/s]"
     ]
    },
    {
     "name": "stdout",
     "output_type": "stream",
     "text": [
      "/home/mikhailo/dev/python/made/cv-2020/hw/hw2/data/generated_60k/р793ко05.png\n",
      "/home/mikhailo/dev/python/made/cv-2020/hw/hw2/data/generated_60k/у389св99.png\n",
      "/home/mikhailo/dev/python/made/cv-2020/hw/hw2/data/generated_60k/н926вт18.png\n"
     ]
    },
    {
     "name": "stderr",
     "output_type": "stream",
     "text": [
      " 48%|████▊     | 28818/59987 [01:26<01:42, 304.35it/s]"
     ]
    },
    {
     "name": "stdout",
     "output_type": "stream",
     "text": [
      "/home/mikhailo/dev/python/made/cv-2020/hw/hw2/data/generated_60k/е954ст36.png\n"
     ]
    },
    {
     "name": "stderr",
     "output_type": "stream",
     "text": [
      " 48%|████▊     | 29061/59987 [01:27<01:51, 276.28it/s]"
     ]
    },
    {
     "name": "stdout",
     "output_type": "stream",
     "text": [
      "/home/mikhailo/dev/python/made/cv-2020/hw/hw2/data/generated_60k/т739ме81.png\n"
     ]
    },
    {
     "name": "stderr",
     "output_type": "stream",
     "text": [
      " 49%|████▉     | 29412/59987 [01:28<01:50, 276.94it/s]"
     ]
    },
    {
     "name": "stdout",
     "output_type": "stream",
     "text": [
      "/home/mikhailo/dev/python/made/cv-2020/hw/hw2/data/generated_60k/т689та90.png\n"
     ]
    },
    {
     "name": "stderr",
     "output_type": "stream",
     "text": [
      " 49%|████▉     | 29632/59987 [01:29<01:43, 293.32it/s]"
     ]
    },
    {
     "name": "stdout",
     "output_type": "stream",
     "text": [
      "/home/mikhailo/dev/python/made/cv-2020/hw/hw2/data/generated_60k/к339ор13.png\n",
      "/home/mikhailo/dev/python/made/cv-2020/hw/hw2/data/generated_60k/в039ме81.png\n"
     ]
    },
    {
     "name": "stderr",
     "output_type": "stream",
     "text": [
      " 50%|████▉     | 29721/59987 [01:29<01:46, 283.46it/s]"
     ]
    },
    {
     "name": "stdout",
     "output_type": "stream",
     "text": [
      "/home/mikhailo/dev/python/made/cv-2020/hw/hw2/data/generated_60k/а710ук48.png\n",
      "/home/mikhailo/dev/python/made/cv-2020/hw/hw2/data/generated_60k/о114оу90.png\n"
     ]
    },
    {
     "name": "stderr",
     "output_type": "stream",
     "text": [
      " 50%|████▉     | 29842/59987 [01:30<01:46, 283.79it/s]"
     ]
    },
    {
     "name": "stdout",
     "output_type": "stream",
     "text": [
      "/home/mikhailo/dev/python/made/cv-2020/hw/hw2/data/generated_60k/в966на22.png\n",
      "/home/mikhailo/dev/python/made/cv-2020/hw/hw2/data/generated_60k/о338ар23.png\n"
     ]
    },
    {
     "name": "stderr",
     "output_type": "stream",
     "text": [
      " 50%|████▉     | 29938/59987 [01:30<01:39, 303.19it/s]"
     ]
    },
    {
     "name": "stdout",
     "output_type": "stream",
     "text": [
      "/home/mikhailo/dev/python/made/cv-2020/hw/hw2/data/generated_60k/х942ав13.png\n"
     ]
    },
    {
     "name": "stderr",
     "output_type": "stream",
     "text": [
      " 50%|█████     | 30153/59987 [01:31<01:41, 295.35it/s]"
     ]
    },
    {
     "name": "stdout",
     "output_type": "stream",
     "text": [
      "/home/mikhailo/dev/python/made/cv-2020/hw/hw2/data/generated_60k/е989ку17.png\n"
     ]
    },
    {
     "name": "stderr",
     "output_type": "stream",
     "text": [
      " 51%|█████     | 30364/59987 [01:32<01:43, 284.84it/s]"
     ]
    },
    {
     "name": "stdout",
     "output_type": "stream",
     "text": [
      "/home/mikhailo/dev/python/made/cv-2020/hw/hw2/data/generated_60k/о036ну33.png\n",
      "/home/mikhailo/dev/python/made/cv-2020/hw/hw2/data/generated_60k/х120ва125.png\n"
     ]
    },
    {
     "name": "stderr",
     "output_type": "stream",
     "text": [
      " 51%|█████     | 30540/59987 [01:32<01:35, 308.60it/s]"
     ]
    },
    {
     "name": "stdout",
     "output_type": "stream",
     "text": [
      "/home/mikhailo/dev/python/made/cv-2020/hw/hw2/data/generated_60k/с449кт92.png\n",
      "/home/mikhailo/dev/python/made/cv-2020/hw/hw2/data/generated_60k/м310рм32.png\n"
     ]
    },
    {
     "name": "stderr",
     "output_type": "stream",
     "text": [
      " 52%|█████▏    | 31066/59987 [01:34<01:25, 337.41it/s]"
     ]
    },
    {
     "name": "stdout",
     "output_type": "stream",
     "text": [
      "/home/mikhailo/dev/python/made/cv-2020/hw/hw2/data/generated_60k/а289та01.png\n",
      "/home/mikhailo/dev/python/made/cv-2020/hw/hw2/data/generated_60k/в297нк72.png\n"
     ]
    },
    {
     "name": "stderr",
     "output_type": "stream",
     "text": [
      " 52%|█████▏    | 31279/59987 [01:34<01:21, 350.21it/s]"
     ]
    },
    {
     "name": "stdout",
     "output_type": "stream",
     "text": [
      "/home/mikhailo/dev/python/made/cv-2020/hw/hw2/data/generated_60k/в612кх09.png\n"
     ]
    },
    {
     "name": "stderr",
     "output_type": "stream",
     "text": [
      " 52%|█████▏    | 31490/59987 [01:35<01:22, 347.23it/s]"
     ]
    },
    {
     "name": "stdout",
     "output_type": "stream",
     "text": [
      "/home/mikhailo/dev/python/made/cv-2020/hw/hw2/data/generated_60k/о620ао57.png\n"
     ]
    },
    {
     "name": "stderr",
     "output_type": "stream",
     "text": [
      " 53%|█████▎    | 31560/59987 [01:35<01:25, 333.80it/s]"
     ]
    },
    {
     "name": "stdout",
     "output_type": "stream",
     "text": [
      "/home/mikhailo/dev/python/made/cv-2020/hw/hw2/data/generated_60k/х049вн07.png\n"
     ]
    },
    {
     "name": "stderr",
     "output_type": "stream",
     "text": [
      " 53%|█████▎    | 31697/59987 [01:36<01:26, 327.28it/s]"
     ]
    },
    {
     "name": "stdout",
     "output_type": "stream",
     "text": [
      "/home/mikhailo/dev/python/made/cv-2020/hw/hw2/data/generated_60k/о606хе31.png\n"
     ]
    },
    {
     "name": "stderr",
     "output_type": "stream",
     "text": [
      " 53%|█████▎    | 31967/59987 [01:37<01:26, 325.35it/s]"
     ]
    },
    {
     "name": "stdout",
     "output_type": "stream",
     "text": [
      "/home/mikhailo/dev/python/made/cv-2020/hw/hw2/data/generated_60k/у864ак62.png\n"
     ]
    },
    {
     "name": "stderr",
     "output_type": "stream",
     "text": [
      " 54%|█████▎    | 32241/59987 [01:37<01:34, 293.32it/s]"
     ]
    },
    {
     "name": "stdout",
     "output_type": "stream",
     "text": [
      "/home/mikhailo/dev/python/made/cv-2020/hw/hw2/data/generated_60k/е517тм82.png\n"
     ]
    },
    {
     "name": "stderr",
     "output_type": "stream",
     "text": [
      " 54%|█████▍    | 32303/59987 [01:38<01:32, 299.13it/s]"
     ]
    },
    {
     "name": "stdout",
     "output_type": "stream",
     "text": [
      "/home/mikhailo/dev/python/made/cv-2020/hw/hw2/data/generated_60k/т270вх24.png\n",
      "/home/mikhailo/dev/python/made/cv-2020/hw/hw2/data/generated_60k/к900уо14.png\n",
      "/home/mikhailo/dev/python/made/cv-2020/hw/hw2/data/generated_60k/н521ех163.png\n"
     ]
    },
    {
     "name": "stderr",
     "output_type": "stream",
     "text": [
      " 55%|█████▍    | 32703/59987 [01:39<01:20, 337.32it/s]"
     ]
    },
    {
     "name": "stdout",
     "output_type": "stream",
     "text": [
      "/home/mikhailo/dev/python/made/cv-2020/hw/hw2/data/generated_60k/т453сн199.png\n",
      "/home/mikhailo/dev/python/made/cv-2020/hw/hw2/data/generated_60k/е624оу56.png\n"
     ]
    },
    {
     "name": "stderr",
     "output_type": "stream",
     "text": [
      " 55%|█████▍    | 32983/59987 [01:40<01:20, 333.40it/s]"
     ]
    },
    {
     "name": "stdout",
     "output_type": "stream",
     "text": [
      "/home/mikhailo/dev/python/made/cv-2020/hw/hw2/data/generated_60k/к741ас09.png\n"
     ]
    },
    {
     "name": "stderr",
     "output_type": "stream",
     "text": [
      " 55%|█████▌    | 33262/59987 [01:40<01:20, 330.12it/s]"
     ]
    },
    {
     "name": "stdout",
     "output_type": "stream",
     "text": [
      "/home/mikhailo/dev/python/made/cv-2020/hw/hw2/data/generated_60k/с726ос36.png\n"
     ]
    },
    {
     "name": "stderr",
     "output_type": "stream",
     "text": [
      " 56%|█████▌    | 33496/59987 [01:41<01:21, 324.48it/s]"
     ]
    },
    {
     "name": "stdout",
     "output_type": "stream",
     "text": [
      "/home/mikhailo/dev/python/made/cv-2020/hw/hw2/data/generated_60k/р872ср54.png\n"
     ]
    },
    {
     "name": "stderr",
     "output_type": "stream",
     "text": [
      " 56%|█████▌    | 33569/59987 [01:41<01:17, 341.39it/s]"
     ]
    },
    {
     "name": "stdout",
     "output_type": "stream",
     "text": [
      "/home/mikhailo/dev/python/made/cv-2020/hw/hw2/data/generated_60k/а814рв77.png\n",
      "/home/mikhailo/dev/python/made/cv-2020/hw/hw2/data/generated_60k/с855но22.png\n"
     ]
    },
    {
     "name": "stderr",
     "output_type": "stream",
     "text": [
      " 56%|█████▋    | 33789/59987 [01:42<01:14, 350.83it/s]"
     ]
    },
    {
     "name": "stdout",
     "output_type": "stream",
     "text": [
      "/home/mikhailo/dev/python/made/cv-2020/hw/hw2/data/generated_60k/у271ое53.png\n"
     ]
    },
    {
     "name": "stderr",
     "output_type": "stream",
     "text": [
      " 57%|█████▋    | 34359/59987 [01:44<01:14, 342.72it/s]"
     ]
    },
    {
     "name": "stdout",
     "output_type": "stream",
     "text": [
      "/home/mikhailo/dev/python/made/cv-2020/hw/hw2/data/generated_60k/к819ев199.png\n"
     ]
    },
    {
     "name": "stderr",
     "output_type": "stream",
     "text": [
      " 58%|█████▊    | 34745/59987 [01:45<01:14, 340.70it/s]"
     ]
    },
    {
     "name": "stdout",
     "output_type": "stream",
     "text": [
      "/home/mikhailo/dev/python/made/cv-2020/hw/hw2/data/generated_60k/о474кс102.png\n",
      "/home/mikhailo/dev/python/made/cv-2020/hw/hw2/data/generated_60k/с381рн92.png\n"
     ]
    },
    {
     "name": "stderr",
     "output_type": "stream",
     "text": [
      " 59%|█████▊    | 35205/59987 [01:46<01:13, 338.22it/s]"
     ]
    },
    {
     "name": "stdout",
     "output_type": "stream",
     "text": [
      "/home/mikhailo/dev/python/made/cv-2020/hw/hw2/data/generated_60k/с870ах99.png\n"
     ]
    },
    {
     "name": "stderr",
     "output_type": "stream",
     "text": [
      " 59%|█████▉    | 35350/59987 [01:47<01:10, 349.79it/s]"
     ]
    },
    {
     "name": "stdout",
     "output_type": "stream",
     "text": [
      "/home/mikhailo/dev/python/made/cv-2020/hw/hw2/data/generated_60k/у848ту75.png\n",
      "/home/mikhailo/dev/python/made/cv-2020/hw/hw2/data/generated_60k/с404вв136.png\n",
      "/home/mikhailo/dev/python/made/cv-2020/hw/hw2/data/generated_60k/а219ва46.png\n"
     ]
    },
    {
     "name": "stderr",
     "output_type": "stream",
     "text": [
      " 59%|█████▉    | 35596/59987 [01:47<01:12, 335.81it/s]"
     ]
    },
    {
     "name": "stdout",
     "output_type": "stream",
     "text": [
      "/home/mikhailo/dev/python/made/cv-2020/hw/hw2/data/generated_60k/о411рм763.png\n"
     ]
    },
    {
     "name": "stderr",
     "output_type": "stream",
     "text": [
      " 60%|█████▉    | 35732/59987 [01:48<01:15, 319.56it/s]"
     ]
    },
    {
     "name": "stdout",
     "output_type": "stream",
     "text": [
      "/home/mikhailo/dev/python/made/cv-2020/hw/hw2/data/generated_60k/р727уо126.png\n",
      "/home/mikhailo/dev/python/made/cv-2020/hw/hw2/data/generated_60k/х025уо45.png\n"
     ]
    },
    {
     "name": "stderr",
     "output_type": "stream",
     "text": [
      " 60%|█████▉    | 35832/59987 [01:48<01:17, 310.81it/s]"
     ]
    },
    {
     "name": "stdout",
     "output_type": "stream",
     "text": [
      "/home/mikhailo/dev/python/made/cv-2020/hw/hw2/data/generated_60k/у643ре69.png\n",
      "/home/mikhailo/dev/python/made/cv-2020/hw/hw2/data/generated_60k/у123ев07.png\n"
     ]
    },
    {
     "name": "stderr",
     "output_type": "stream",
     "text": [
      " 60%|██████    | 36111/59987 [01:49<01:08, 346.83it/s]"
     ]
    },
    {
     "name": "stdout",
     "output_type": "stream",
     "text": [
      "/home/mikhailo/dev/python/made/cv-2020/hw/hw2/data/generated_60k/х328ро88.png\n",
      "/home/mikhailo/dev/python/made/cv-2020/hw/hw2/data/generated_60k/х783хт102.png\n",
      "/home/mikhailo/dev/python/made/cv-2020/hw/hw2/data/generated_60k/с329ак71.png\n",
      "/home/mikhailo/dev/python/made/cv-2020/hw/hw2/data/generated_60k/х597ау10.png\n"
     ]
    },
    {
     "name": "stderr",
     "output_type": "stream",
     "text": [
      " 62%|██████▏   | 36894/59987 [01:51<01:05, 353.53it/s]"
     ]
    },
    {
     "name": "stdout",
     "output_type": "stream",
     "text": [
      "/home/mikhailo/dev/python/made/cv-2020/hw/hw2/data/generated_60k/а104еа32.png\n",
      "/home/mikhailo/dev/python/made/cv-2020/hw/hw2/data/generated_60k/е153нх33.png\n"
     ]
    },
    {
     "name": "stderr",
     "output_type": "stream",
     "text": [
      " 62%|██████▏   | 37073/59987 [01:52<01:05, 350.48it/s]"
     ]
    },
    {
     "name": "stdout",
     "output_type": "stream",
     "text": [
      "/home/mikhailo/dev/python/made/cv-2020/hw/hw2/data/generated_60k/к309вс125.png\n"
     ]
    },
    {
     "name": "stderr",
     "output_type": "stream",
     "text": [
      " 63%|██████▎   | 37516/59987 [01:53<01:10, 316.69it/s]"
     ]
    },
    {
     "name": "stdout",
     "output_type": "stream",
     "text": [
      "/home/mikhailo/dev/python/made/cv-2020/hw/hw2/data/generated_60k/а813ко62.png\n",
      "/home/mikhailo/dev/python/made/cv-2020/hw/hw2/data/generated_60k/н903см43.png\n"
     ]
    },
    {
     "name": "stderr",
     "output_type": "stream",
     "text": [
      " 63%|██████▎   | 37764/59987 [01:54<01:02, 353.33it/s]"
     ]
    },
    {
     "name": "stdout",
     "output_type": "stream",
     "text": [
      "/home/mikhailo/dev/python/made/cv-2020/hw/hw2/data/generated_60k/в411ос16.png\n"
     ]
    },
    {
     "name": "stderr",
     "output_type": "stream",
     "text": [
      " 63%|██████▎   | 37988/59987 [01:55<01:01, 358.15it/s]"
     ]
    },
    {
     "name": "stdout",
     "output_type": "stream",
     "text": [
      "/home/mikhailo/dev/python/made/cv-2020/hw/hw2/data/generated_60k/х143он45.png\n"
     ]
    },
    {
     "name": "stderr",
     "output_type": "stream",
     "text": [
      " 64%|██████▎   | 38164/59987 [01:55<01:05, 334.74it/s]"
     ]
    },
    {
     "name": "stdout",
     "output_type": "stream",
     "text": [
      "/home/mikhailo/dev/python/made/cv-2020/hw/hw2/data/generated_60k/а255ое186.png\n"
     ]
    },
    {
     "name": "stderr",
     "output_type": "stream",
     "text": [
      " 64%|██████▍   | 38376/59987 [01:56<01:03, 343.01it/s]"
     ]
    },
    {
     "name": "stdout",
     "output_type": "stream",
     "text": [
      "/home/mikhailo/dev/python/made/cv-2020/hw/hw2/data/generated_60k/с476мк12.png\n"
     ]
    },
    {
     "name": "stderr",
     "output_type": "stream",
     "text": [
      " 64%|██████▍   | 38615/59987 [01:56<01:06, 323.64it/s]"
     ]
    },
    {
     "name": "stdout",
     "output_type": "stream",
     "text": [
      "/home/mikhailo/dev/python/made/cv-2020/hw/hw2/data/generated_60k/а008вт150.png\n",
      "/home/mikhailo/dev/python/made/cv-2020/hw/hw2/data/generated_60k/х553ук18.png\n"
     ]
    },
    {
     "name": "stderr",
     "output_type": "stream",
     "text": [
      " 65%|██████▌   | 39125/59987 [01:58<01:03, 329.17it/s]"
     ]
    },
    {
     "name": "stdout",
     "output_type": "stream",
     "text": [
      "/home/mikhailo/dev/python/made/cv-2020/hw/hw2/data/generated_60k/т137мн55.png\n"
     ]
    },
    {
     "name": "stderr",
     "output_type": "stream",
     "text": [
      " 65%|██████▌   | 39227/59987 [01:58<01:02, 333.54it/s]"
     ]
    },
    {
     "name": "stdout",
     "output_type": "stream",
     "text": [
      "/home/mikhailo/dev/python/made/cv-2020/hw/hw2/data/generated_60k/с637уе116.png\n"
     ]
    },
    {
     "name": "stderr",
     "output_type": "stream",
     "text": [
      " 67%|██████▋   | 39961/59987 [02:01<00:59, 338.97it/s]"
     ]
    },
    {
     "name": "stdout",
     "output_type": "stream",
     "text": [
      "/home/mikhailo/dev/python/made/cv-2020/hw/hw2/data/generated_60k/к375со60.png\n"
     ]
    },
    {
     "name": "stderr",
     "output_type": "stream",
     "text": [
      " 67%|██████▋   | 40030/59987 [02:01<00:59, 338.06it/s]"
     ]
    },
    {
     "name": "stdout",
     "output_type": "stream",
     "text": [
      "/home/mikhailo/dev/python/made/cv-2020/hw/hw2/data/generated_60k/с606ов89.png\n"
     ]
    },
    {
     "name": "stderr",
     "output_type": "stream",
     "text": [
      " 67%|██████▋   | 40170/59987 [02:01<00:58, 341.55it/s]"
     ]
    },
    {
     "name": "stdout",
     "output_type": "stream",
     "text": [
      "/home/mikhailo/dev/python/made/cv-2020/hw/hw2/data/generated_60k/м753ка61.png\n"
     ]
    },
    {
     "name": "stderr",
     "output_type": "stream",
     "text": [
      " 68%|██████▊   | 40579/59987 [02:02<00:57, 334.80it/s]"
     ]
    },
    {
     "name": "stdout",
     "output_type": "stream",
     "text": [
      "/home/mikhailo/dev/python/made/cv-2020/hw/hw2/data/generated_60k/к182тн88.png\n",
      "/home/mikhailo/dev/python/made/cv-2020/hw/hw2/data/generated_60k/с536ун19.png\n"
     ]
    },
    {
     "name": "stderr",
     "output_type": "stream",
     "text": [
      " 68%|██████▊   | 40900/59987 [02:03<00:56, 340.39it/s]"
     ]
    },
    {
     "name": "stdout",
     "output_type": "stream",
     "text": [
      "/home/mikhailo/dev/python/made/cv-2020/hw/hw2/data/generated_60k/а045еа56.png\n"
     ]
    },
    {
     "name": "stderr",
     "output_type": "stream",
     "text": [
      " 68%|██████▊   | 41005/59987 [02:04<00:55, 344.56it/s]"
     ]
    },
    {
     "name": "stdout",
     "output_type": "stream",
     "text": [
      "/home/mikhailo/dev/python/made/cv-2020/hw/hw2/data/generated_60k/к077ск24.png\n"
     ]
    },
    {
     "name": "stderr",
     "output_type": "stream",
     "text": [
      " 69%|██████▊   | 41142/59987 [02:04<00:57, 329.32it/s]"
     ]
    },
    {
     "name": "stdout",
     "output_type": "stream",
     "text": [
      "/home/mikhailo/dev/python/made/cv-2020/hw/hw2/data/generated_60k/о813рт173.png\n",
      "/home/mikhailo/dev/python/made/cv-2020/hw/hw2/data/generated_60k/н780нв27.png\n"
     ]
    },
    {
     "name": "stderr",
     "output_type": "stream",
     "text": [
      " 69%|██████▉   | 41314/59987 [02:05<00:56, 331.99it/s]"
     ]
    },
    {
     "name": "stdout",
     "output_type": "stream",
     "text": [
      "/home/mikhailo/dev/python/made/cv-2020/hw/hw2/data/generated_60k/м343кк86.png\n"
     ]
    },
    {
     "name": "stderr",
     "output_type": "stream",
     "text": [
      " 69%|██████▉   | 41481/59987 [02:05<00:58, 316.04it/s]"
     ]
    },
    {
     "name": "stdout",
     "output_type": "stream",
     "text": [
      "/home/mikhailo/dev/python/made/cv-2020/hw/hw2/data/generated_60k/н268ар38.png\n"
     ]
    },
    {
     "name": "stderr",
     "output_type": "stream",
     "text": [
      " 69%|██████▉   | 41677/59987 [02:06<00:57, 320.12it/s]"
     ]
    },
    {
     "name": "stdout",
     "output_type": "stream",
     "text": [
      "/home/mikhailo/dev/python/made/cv-2020/hw/hw2/data/generated_60k/о984не121.png\n"
     ]
    },
    {
     "name": "stderr",
     "output_type": "stream",
     "text": [
      " 70%|██████▉   | 41810/59987 [02:06<00:56, 320.10it/s]"
     ]
    },
    {
     "name": "stdout",
     "output_type": "stream",
     "text": [
      "/home/mikhailo/dev/python/made/cv-2020/hw/hw2/data/generated_60k/м382рт45.png\n",
      "/home/mikhailo/dev/python/made/cv-2020/hw/hw2/data/generated_60k/в851ов58.png\n"
     ]
    },
    {
     "name": "stderr",
     "output_type": "stream",
     "text": [
      " 70%|██████▉   | 41915/59987 [02:07<00:53, 339.00it/s]"
     ]
    },
    {
     "name": "stdout",
     "output_type": "stream",
     "text": [
      "/home/mikhailo/dev/python/made/cv-2020/hw/hw2/data/generated_60k/о525мт87.png\n",
      "/home/mikhailo/dev/python/made/cv-2020/hw/hw2/data/generated_60k/с099вр61.png\n"
     ]
    },
    {
     "name": "stderr",
     "output_type": "stream",
     "text": [
      " 70%|███████   | 42021/59987 [02:07<00:52, 344.55it/s]"
     ]
    },
    {
     "name": "stdout",
     "output_type": "stream",
     "text": [
      "/home/mikhailo/dev/python/made/cv-2020/hw/hw2/data/generated_60k/в492от92.png\n",
      "/home/mikhailo/dev/python/made/cv-2020/hw/hw2/data/generated_60k/в854ув75.png\n",
      "/home/mikhailo/dev/python/made/cv-2020/hw/hw2/data/generated_60k/е495нм93.png\n"
     ]
    },
    {
     "name": "stderr",
     "output_type": "stream",
     "text": [
      " 70%|███████   | 42123/59987 [02:07<00:55, 324.60it/s]"
     ]
    },
    {
     "name": "stdout",
     "output_type": "stream",
     "text": [
      "/home/mikhailo/dev/python/made/cv-2020/hw/hw2/data/generated_60k/н343ев102.png\n",
      "/home/mikhailo/dev/python/made/cv-2020/hw/hw2/data/generated_60k/е456нс41.png\n",
      "/home/mikhailo/dev/python/made/cv-2020/hw/hw2/data/generated_60k/р310хк46.png\n",
      "/home/mikhailo/dev/python/made/cv-2020/hw/hw2/data/generated_60k/т865вм03.png\n"
     ]
    },
    {
     "name": "stderr",
     "output_type": "stream",
     "text": [
      " 70%|███████   | 42264/59987 [02:08<00:51, 342.34it/s]"
     ]
    },
    {
     "name": "stdout",
     "output_type": "stream",
     "text": [
      "/home/mikhailo/dev/python/made/cv-2020/hw/hw2/data/generated_60k/а517уе15.png\n"
     ]
    },
    {
     "name": "stderr",
     "output_type": "stream",
     "text": [
      " 71%|███████   | 42400/59987 [02:08<00:53, 327.16it/s]"
     ]
    },
    {
     "name": "stdout",
     "output_type": "stream",
     "text": [
      "/home/mikhailo/dev/python/made/cv-2020/hw/hw2/data/generated_60k/х762мм86.png\n",
      "/home/mikhailo/dev/python/made/cv-2020/hw/hw2/data/generated_60k/н808хе33.png\n"
     ]
    },
    {
     "name": "stderr",
     "output_type": "stream",
     "text": [
      " 71%|███████   | 42536/59987 [02:08<00:55, 313.27it/s]"
     ]
    },
    {
     "name": "stdout",
     "output_type": "stream",
     "text": [
      "/home/mikhailo/dev/python/made/cv-2020/hw/hw2/data/generated_60k/о185ек54.png\n"
     ]
    },
    {
     "name": "stderr",
     "output_type": "stream",
     "text": [
      " 71%|███████   | 42670/59987 [02:09<00:53, 322.26it/s]"
     ]
    },
    {
     "name": "stdout",
     "output_type": "stream",
     "text": [
      "/home/mikhailo/dev/python/made/cv-2020/hw/hw2/data/generated_60k/к073вн71.png\n"
     ]
    },
    {
     "name": "stderr",
     "output_type": "stream",
     "text": [
      " 71%|███████▏  | 42772/59987 [02:09<00:52, 325.10it/s]"
     ]
    },
    {
     "name": "stdout",
     "output_type": "stream",
     "text": [
      "/home/mikhailo/dev/python/made/cv-2020/hw/hw2/data/generated_60k/м940ву73.png\n"
     ]
    },
    {
     "name": "stderr",
     "output_type": "stream",
     "text": [
      " 71%|███████▏  | 42875/59987 [02:09<00:51, 333.44it/s]"
     ]
    },
    {
     "name": "stdout",
     "output_type": "stream",
     "text": [
      "/home/mikhailo/dev/python/made/cv-2020/hw/hw2/data/generated_60k/с294тв94.png\n",
      "/home/mikhailo/dev/python/made/cv-2020/hw/hw2/data/generated_60k/с632тс38.png\n"
     ]
    },
    {
     "name": "stderr",
     "output_type": "stream",
     "text": [
      " 72%|███████▏  | 43009/59987 [02:10<00:53, 319.89it/s]"
     ]
    },
    {
     "name": "stdout",
     "output_type": "stream",
     "text": [
      "/home/mikhailo/dev/python/made/cv-2020/hw/hw2/data/generated_60k/т713тв66.png\n"
     ]
    },
    {
     "name": "stderr",
     "output_type": "stream",
     "text": [
      " 72%|███████▏  | 43174/59987 [02:10<00:54, 310.62it/s]"
     ]
    },
    {
     "name": "stdout",
     "output_type": "stream",
     "text": [
      "/home/mikhailo/dev/python/made/cv-2020/hw/hw2/data/generated_60k/а576хс19.png\n"
     ]
    },
    {
     "name": "stderr",
     "output_type": "stream",
     "text": [
      " 72%|███████▏  | 43409/59987 [02:11<00:50, 330.35it/s]"
     ]
    },
    {
     "name": "stdout",
     "output_type": "stream",
     "text": [
      "/home/mikhailo/dev/python/made/cv-2020/hw/hw2/data/generated_60k/н715ух34.png\n"
     ]
    },
    {
     "name": "stderr",
     "output_type": "stream",
     "text": [
      " 73%|███████▎  | 43591/59987 [02:12<00:45, 358.54it/s]"
     ]
    },
    {
     "name": "stdout",
     "output_type": "stream",
     "text": [
      "/home/mikhailo/dev/python/made/cv-2020/hw/hw2/data/generated_60k/т345вт12.png\n"
     ]
    },
    {
     "name": "stderr",
     "output_type": "stream",
     "text": [
      " 73%|███████▎  | 43664/59987 [02:12<00:45, 355.66it/s]"
     ]
    },
    {
     "name": "stdout",
     "output_type": "stream",
     "text": [
      "/home/mikhailo/dev/python/made/cv-2020/hw/hw2/data/generated_60k/а593ну99.png\n",
      "/home/mikhailo/dev/python/made/cv-2020/hw/hw2/data/generated_60k/е470вт147.png\n"
     ]
    },
    {
     "name": "stderr",
     "output_type": "stream",
     "text": [
      " 74%|███████▍  | 44315/59987 [02:14<00:45, 342.37it/s]"
     ]
    },
    {
     "name": "stdout",
     "output_type": "stream",
     "text": [
      "/home/mikhailo/dev/python/made/cv-2020/hw/hw2/data/generated_60k/р362рк28.png\n"
     ]
    },
    {
     "name": "stderr",
     "output_type": "stream",
     "text": [
      " 74%|███████▍  | 44426/59987 [02:14<00:43, 354.84it/s]"
     ]
    },
    {
     "name": "stdout",
     "output_type": "stream",
     "text": [
      "/home/mikhailo/dev/python/made/cv-2020/hw/hw2/data/generated_60k/х756ув196.png\n"
     ]
    },
    {
     "name": "stderr",
     "output_type": "stream",
     "text": [
      " 75%|███████▍  | 44753/59987 [02:15<00:44, 340.53it/s]"
     ]
    },
    {
     "name": "stdout",
     "output_type": "stream",
     "text": [
      "/home/mikhailo/dev/python/made/cv-2020/hw/hw2/data/generated_60k/с903ха99.png\n"
     ]
    },
    {
     "name": "stderr",
     "output_type": "stream",
     "text": [
      " 75%|███████▍  | 44896/59987 [02:15<00:43, 346.60it/s]"
     ]
    },
    {
     "name": "stdout",
     "output_type": "stream",
     "text": [
      "/home/mikhailo/dev/python/made/cv-2020/hw/hw2/data/generated_60k/р327нт64.png\n"
     ]
    },
    {
     "name": "stderr",
     "output_type": "stream",
     "text": [
      " 75%|███████▌  | 45003/59987 [02:16<00:45, 327.51it/s]"
     ]
    },
    {
     "name": "stdout",
     "output_type": "stream",
     "text": [
      "/home/mikhailo/dev/python/made/cv-2020/hw/hw2/data/generated_60k/с821вх27.png\n"
     ]
    },
    {
     "name": "stderr",
     "output_type": "stream",
     "text": [
      " 75%|███████▌  | 45147/59987 [02:16<00:42, 351.58it/s]"
     ]
    },
    {
     "name": "stdout",
     "output_type": "stream",
     "text": [
      "/home/mikhailo/dev/python/made/cv-2020/hw/hw2/data/generated_60k/с550то163.png\n"
     ]
    },
    {
     "name": "stderr",
     "output_type": "stream",
     "text": [
      " 75%|███████▌  | 45255/59987 [02:17<00:42, 344.52it/s]"
     ]
    },
    {
     "name": "stdout",
     "output_type": "stream",
     "text": [
      "/home/mikhailo/dev/python/made/cv-2020/hw/hw2/data/generated_60k/т556оу38.png\n"
     ]
    },
    {
     "name": "stderr",
     "output_type": "stream",
     "text": [
      " 76%|███████▌  | 45362/59987 [02:17<00:45, 324.14it/s]"
     ]
    },
    {
     "name": "stdout",
     "output_type": "stream",
     "text": [
      "/home/mikhailo/dev/python/made/cv-2020/hw/hw2/data/generated_60k/н389тс73.png\n"
     ]
    },
    {
     "name": "stderr",
     "output_type": "stream",
     "text": [
      " 77%|███████▋  | 45925/59987 [02:19<00:41, 335.24it/s]"
     ]
    },
    {
     "name": "stdout",
     "output_type": "stream",
     "text": [
      "/home/mikhailo/dev/python/made/cv-2020/hw/hw2/data/generated_60k/о314ас08.png\n"
     ]
    },
    {
     "name": "stderr",
     "output_type": "stream",
     "text": [
      " 77%|███████▋  | 45996/59987 [02:19<00:41, 340.27it/s]"
     ]
    },
    {
     "name": "stdout",
     "output_type": "stream",
     "text": [
      "/home/mikhailo/dev/python/made/cv-2020/hw/hw2/data/generated_60k/о014хк147.png\n"
     ]
    },
    {
     "name": "stderr",
     "output_type": "stream",
     "text": [
      " 78%|███████▊  | 46711/59987 [02:21<00:40, 328.27it/s]"
     ]
    },
    {
     "name": "stdout",
     "output_type": "stream",
     "text": [
      "/home/mikhailo/dev/python/made/cv-2020/hw/hw2/data/generated_60k/р179рм13.png\n",
      "/home/mikhailo/dev/python/made/cv-2020/hw/hw2/data/generated_60k/с773мн154.png\n"
     ]
    },
    {
     "name": "stderr",
     "output_type": "stream",
     "text": [
      " 78%|███████▊  | 47019/59987 [02:22<00:38, 333.98it/s]"
     ]
    },
    {
     "name": "stdout",
     "output_type": "stream",
     "text": [
      "/home/mikhailo/dev/python/made/cv-2020/hw/hw2/data/generated_60k/х032нс41.png\n"
     ]
    },
    {
     "name": "stderr",
     "output_type": "stream",
     "text": [
      " 79%|███████▉  | 47427/59987 [02:23<00:37, 332.88it/s]"
     ]
    },
    {
     "name": "stdout",
     "output_type": "stream",
     "text": [
      "/home/mikhailo/dev/python/made/cv-2020/hw/hw2/data/generated_60k/р165ке60.png\n"
     ]
    },
    {
     "name": "stderr",
     "output_type": "stream",
     "text": [
      " 79%|███████▉  | 47534/59987 [02:23<00:36, 341.32it/s]"
     ]
    },
    {
     "name": "stdout",
     "output_type": "stream",
     "text": [
      "/home/mikhailo/dev/python/made/cv-2020/hw/hw2/data/generated_60k/м207ук34.png\n"
     ]
    },
    {
     "name": "stderr",
     "output_type": "stream",
     "text": [
      " 80%|███████▉  | 47894/59987 [02:24<00:34, 347.07it/s]"
     ]
    },
    {
     "name": "stdout",
     "output_type": "stream",
     "text": [
      "/home/mikhailo/dev/python/made/cv-2020/hw/hw2/data/generated_60k/с545са70.png\n"
     ]
    },
    {
     "name": "stderr",
     "output_type": "stream",
     "text": [
      " 80%|████████  | 48175/59987 [02:25<00:34, 346.92it/s]"
     ]
    },
    {
     "name": "stdout",
     "output_type": "stream",
     "text": [
      "/home/mikhailo/dev/python/made/cv-2020/hw/hw2/data/generated_60k/к904су92.png\n"
     ]
    },
    {
     "name": "stderr",
     "output_type": "stream",
     "text": [
      " 81%|████████  | 48345/59987 [02:26<00:36, 314.73it/s]"
     ]
    },
    {
     "name": "stdout",
     "output_type": "stream",
     "text": [
      "/home/mikhailo/dev/python/made/cv-2020/hw/hw2/data/generated_60k/к510он53.png\n"
     ]
    },
    {
     "name": "stderr",
     "output_type": "stream",
     "text": [
      " 81%|████████  | 48487/59987 [02:26<00:33, 338.93it/s]"
     ]
    },
    {
     "name": "stdout",
     "output_type": "stream",
     "text": [
      "/home/mikhailo/dev/python/made/cv-2020/hw/hw2/data/generated_60k/х872нк06.png\n"
     ]
    },
    {
     "name": "stderr",
     "output_type": "stream",
     "text": [
      " 81%|████████  | 48558/59987 [02:26<00:33, 345.13it/s]"
     ]
    },
    {
     "name": "stdout",
     "output_type": "stream",
     "text": [
      "/home/mikhailo/dev/python/made/cv-2020/hw/hw2/data/generated_60k/е721мт89.png\n"
     ]
    },
    {
     "name": "stderr",
     "output_type": "stream",
     "text": [
      " 82%|████████▏ | 48913/59987 [02:27<00:32, 337.14it/s]"
     ]
    },
    {
     "name": "stdout",
     "output_type": "stream",
     "text": [
      "/home/mikhailo/dev/python/made/cv-2020/hw/hw2/data/generated_60k/у144ма54.png\n",
      "/home/mikhailo/dev/python/made/cv-2020/hw/hw2/data/generated_60k/о717мх35.png\n"
     ]
    },
    {
     "name": "stderr",
     "output_type": "stream",
     "text": [
      " 82%|████████▏ | 49190/59987 [02:28<00:31, 341.42it/s]"
     ]
    },
    {
     "name": "stdout",
     "output_type": "stream",
     "text": [
      "/home/mikhailo/dev/python/made/cv-2020/hw/hw2/data/generated_60k/т289ау13.png\n"
     ]
    },
    {
     "name": "stderr",
     "output_type": "stream",
     "text": [
      " 83%|████████▎ | 49701/59987 [02:30<00:29, 343.24it/s]"
     ]
    },
    {
     "name": "stdout",
     "output_type": "stream",
     "text": [
      "/home/mikhailo/dev/python/made/cv-2020/hw/hw2/data/generated_60k/а663ха29.png\n",
      "/home/mikhailo/dev/python/made/cv-2020/hw/hw2/data/generated_60k/е766аа38.png\n"
     ]
    },
    {
     "name": "stderr",
     "output_type": "stream",
     "text": [
      " 83%|████████▎ | 49842/59987 [02:30<00:29, 343.66it/s]"
     ]
    },
    {
     "name": "stdout",
     "output_type": "stream",
     "text": [
      "/home/mikhailo/dev/python/made/cv-2020/hw/hw2/data/generated_60k/а620тм134.png\n"
     ]
    },
    {
     "name": "stderr",
     "output_type": "stream",
     "text": [
      " 84%|████████▎ | 50144/59987 [02:31<00:30, 321.17it/s]"
     ]
    },
    {
     "name": "stdout",
     "output_type": "stream",
     "text": [
      "/home/mikhailo/dev/python/made/cv-2020/hw/hw2/data/generated_60k/о496ер88.png\n",
      "/home/mikhailo/dev/python/made/cv-2020/hw/hw2/data/generated_60k/а521мс13.png\n"
     ]
    },
    {
     "name": "stderr",
     "output_type": "stream",
     "text": [
      " 84%|████████▍ | 50281/59987 [02:32<00:28, 337.59it/s]"
     ]
    },
    {
     "name": "stdout",
     "output_type": "stream",
     "text": [
      "/home/mikhailo/dev/python/made/cv-2020/hw/hw2/data/generated_60k/м710хм57.png\n"
     ]
    },
    {
     "name": "stderr",
     "output_type": "stream",
     "text": [
      " 84%|████████▍ | 50457/59987 [02:32<00:28, 335.11it/s]"
     ]
    },
    {
     "name": "stdout",
     "output_type": "stream",
     "text": [
      "/home/mikhailo/dev/python/made/cv-2020/hw/hw2/data/generated_60k/в009уа04.png\n"
     ]
    },
    {
     "name": "stderr",
     "output_type": "stream",
     "text": [
      " 84%|████████▍ | 50526/59987 [02:32<00:28, 337.61it/s]"
     ]
    },
    {
     "name": "stdout",
     "output_type": "stream",
     "text": [
      "/home/mikhailo/dev/python/made/cv-2020/hw/hw2/data/generated_60k/м179мк750.png\n",
      "/home/mikhailo/dev/python/made/cv-2020/hw/hw2/data/generated_60k/м369ов07.png\n"
     ]
    },
    {
     "name": "stderr",
     "output_type": "stream",
     "text": [
      " 85%|████████▍ | 50773/59987 [02:33<00:26, 341.77it/s]"
     ]
    },
    {
     "name": "stdout",
     "output_type": "stream",
     "text": [
      "/home/mikhailo/dev/python/made/cv-2020/hw/hw2/data/generated_60k/о486нр22.png\n",
      "/home/mikhailo/dev/python/made/cv-2020/hw/hw2/data/generated_60k/р518от80.png\n"
     ]
    },
    {
     "name": "stderr",
     "output_type": "stream",
     "text": [
      " 85%|████████▍ | 50987/59987 [02:34<00:28, 318.60it/s]"
     ]
    },
    {
     "name": "stdout",
     "output_type": "stream",
     "text": [
      "/home/mikhailo/dev/python/made/cv-2020/hw/hw2/data/generated_60k/н051ва152.png\n",
      "/home/mikhailo/dev/python/made/cv-2020/hw/hw2/data/generated_60k/а824еу72.png\n"
     ]
    },
    {
     "name": "stderr",
     "output_type": "stream",
     "text": [
      " 85%|████████▌ | 51193/59987 [02:34<00:25, 339.23it/s]"
     ]
    },
    {
     "name": "stdout",
     "output_type": "stream",
     "text": [
      "/home/mikhailo/dev/python/made/cv-2020/hw/hw2/data/generated_60k/с208то24.png\n"
     ]
    },
    {
     "name": "stderr",
     "output_type": "stream",
     "text": [
      " 86%|████████▌ | 51553/59987 [02:35<00:24, 342.36it/s]"
     ]
    },
    {
     "name": "stdout",
     "output_type": "stream",
     "text": [
      "/home/mikhailo/dev/python/made/cv-2020/hw/hw2/data/generated_60k/у582тс06.png\n",
      "/home/mikhailo/dev/python/made/cv-2020/hw/hw2/data/generated_60k/е017ук09.png\n"
     ]
    },
    {
     "name": "stderr",
     "output_type": "stream",
     "text": [
      " 86%|████████▌ | 51728/59987 [02:36<00:25, 321.84it/s]"
     ]
    },
    {
     "name": "stdout",
     "output_type": "stream",
     "text": [
      "/home/mikhailo/dev/python/made/cv-2020/hw/hw2/data/generated_60k/х043ем15.png\n"
     ]
    },
    {
     "name": "stderr",
     "output_type": "stream",
     "text": [
      " 87%|████████▋ | 52396/59987 [02:38<00:22, 330.21it/s]"
     ]
    },
    {
     "name": "stdout",
     "output_type": "stream",
     "text": [
      "/home/mikhailo/dev/python/made/cv-2020/hw/hw2/data/generated_60k/т724ув08.png\n"
     ]
    },
    {
     "name": "stderr",
     "output_type": "stream",
     "text": [
      " 88%|████████▊ | 52502/59987 [02:38<00:21, 343.19it/s]"
     ]
    },
    {
     "name": "stdout",
     "output_type": "stream",
     "text": [
      "/home/mikhailo/dev/python/made/cv-2020/hw/hw2/data/generated_60k/х003он51.png\n",
      "/home/mikhailo/dev/python/made/cv-2020/hw/hw2/data/generated_60k/н959ух50.png\n"
     ]
    },
    {
     "name": "stderr",
     "output_type": "stream",
     "text": [
      " 88%|████████▊ | 52789/59987 [02:39<00:21, 335.14it/s]"
     ]
    },
    {
     "name": "stdout",
     "output_type": "stream",
     "text": [
      "/home/mikhailo/dev/python/made/cv-2020/hw/hw2/data/generated_60k/у878еа04.png\n",
      "/home/mikhailo/dev/python/made/cv-2020/hw/hw2/data/generated_60k/р033ам07.png\n"
     ]
    },
    {
     "name": "stderr",
     "output_type": "stream",
     "text": [
      " 88%|████████▊ | 52896/59987 [02:39<00:20, 344.87it/s]"
     ]
    },
    {
     "name": "stdout",
     "output_type": "stream",
     "text": [
      "/home/mikhailo/dev/python/made/cv-2020/hw/hw2/data/generated_60k/а566еа101.png\n",
      "/home/mikhailo/dev/python/made/cv-2020/hw/hw2/data/generated_60k/н600св147.png\n"
     ]
    },
    {
     "name": "stderr",
     "output_type": "stream",
     "text": [
      " 89%|████████▊ | 53111/59987 [02:40<00:19, 350.56it/s]"
     ]
    },
    {
     "name": "stdout",
     "output_type": "stream",
     "text": [
      "/home/mikhailo/dev/python/made/cv-2020/hw/hw2/data/generated_60k/в358нс75.png\n",
      "/home/mikhailo/dev/python/made/cv-2020/hw/hw2/data/generated_60k/м327нт70.png\n"
     ]
    },
    {
     "name": "stderr",
     "output_type": "stream",
     "text": [
      " 89%|████████▉ | 53564/59987 [02:41<00:19, 337.64it/s]"
     ]
    },
    {
     "name": "stdout",
     "output_type": "stream",
     "text": [
      "/home/mikhailo/dev/python/made/cv-2020/hw/hw2/data/generated_60k/о074оу13.png\n"
     ]
    },
    {
     "name": "stderr",
     "output_type": "stream",
     "text": [
      " 90%|████████▉ | 53703/59987 [02:42<00:18, 338.31it/s]"
     ]
    },
    {
     "name": "stdout",
     "output_type": "stream",
     "text": [
      "/home/mikhailo/dev/python/made/cv-2020/hw/hw2/data/generated_60k/р812ра15.png\n"
     ]
    },
    {
     "name": "stderr",
     "output_type": "stream",
     "text": [
      " 90%|████████▉ | 53916/59987 [02:42<00:17, 342.23it/s]"
     ]
    },
    {
     "name": "stdout",
     "output_type": "stream",
     "text": [
      "/home/mikhailo/dev/python/made/cv-2020/hw/hw2/data/generated_60k/т490ев08.png\n",
      "/home/mikhailo/dev/python/made/cv-2020/hw/hw2/data/generated_60k/м667кр58.png\n"
     ]
    },
    {
     "name": "stderr",
     "output_type": "stream",
     "text": [
      " 90%|████████▉ | 53985/59987 [02:43<00:17, 337.04it/s]"
     ]
    },
    {
     "name": "stdout",
     "output_type": "stream",
     "text": [
      "/home/mikhailo/dev/python/made/cv-2020/hw/hw2/data/generated_60k/е602уа57.png\n"
     ]
    },
    {
     "name": "stderr",
     "output_type": "stream",
     "text": [
      " 91%|█████████▏| 54790/59987 [02:45<00:15, 336.72it/s]"
     ]
    },
    {
     "name": "stdout",
     "output_type": "stream",
     "text": [
      "/home/mikhailo/dev/python/made/cv-2020/hw/hw2/data/generated_60k/т970мв11.png\n"
     ]
    },
    {
     "name": "stderr",
     "output_type": "stream",
     "text": [
      " 92%|█████████▏| 54893/59987 [02:45<00:15, 336.05it/s]"
     ]
    },
    {
     "name": "stdout",
     "output_type": "stream",
     "text": [
      "/home/mikhailo/dev/python/made/cv-2020/hw/hw2/data/generated_60k/е470хс66.png\n"
     ]
    },
    {
     "name": "stderr",
     "output_type": "stream",
     "text": [
      " 92%|█████████▏| 55099/59987 [02:46<00:14, 328.76it/s]"
     ]
    },
    {
     "name": "stdout",
     "output_type": "stream",
     "text": [
      "/home/mikhailo/dev/python/made/cv-2020/hw/hw2/data/generated_60k/в159ае138.png\n"
     ]
    },
    {
     "name": "stderr",
     "output_type": "stream",
     "text": [
      " 92%|█████████▏| 55269/59987 [02:46<00:14, 333.50it/s]"
     ]
    },
    {
     "name": "stdout",
     "output_type": "stream",
     "text": [
      "/home/mikhailo/dev/python/made/cv-2020/hw/hw2/data/generated_60k/в586уу46.png\n"
     ]
    },
    {
     "name": "stderr",
     "output_type": "stream",
     "text": [
      " 92%|█████████▏| 55475/59987 [02:47<00:13, 325.93it/s]"
     ]
    },
    {
     "name": "stdout",
     "output_type": "stream",
     "text": [
      "/home/mikhailo/dev/python/made/cv-2020/hw/hw2/data/generated_60k/р306ум74.png\n"
     ]
    },
    {
     "name": "stderr",
     "output_type": "stream",
     "text": [
      " 93%|█████████▎| 55681/59987 [02:48<00:12, 336.07it/s]"
     ]
    },
    {
     "name": "stdout",
     "output_type": "stream",
     "text": [
      "/home/mikhailo/dev/python/made/cv-2020/hw/hw2/data/generated_60k/н060уу84.png\n"
     ]
    },
    {
     "name": "stderr",
     "output_type": "stream",
     "text": [
      " 93%|█████████▎| 55918/59987 [02:48<00:12, 327.57it/s]"
     ]
    },
    {
     "name": "stdout",
     "output_type": "stream",
     "text": [
      "/home/mikhailo/dev/python/made/cv-2020/hw/hw2/data/generated_60k/т585хх30.png\n",
      "/home/mikhailo/dev/python/made/cv-2020/hw/hw2/data/generated_60k/с916хх35.png\n"
     ]
    },
    {
     "name": "stderr",
     "output_type": "stream",
     "text": [
      " 93%|█████████▎| 56081/59987 [02:49<00:12, 310.38it/s]"
     ]
    },
    {
     "name": "stdout",
     "output_type": "stream",
     "text": [
      "/home/mikhailo/dev/python/made/cv-2020/hw/hw2/data/generated_60k/х984ет46.png\n",
      "/home/mikhailo/dev/python/made/cv-2020/hw/hw2/data/generated_60k/е129ру81.png\n"
     ]
    },
    {
     "name": "stderr",
     "output_type": "stream",
     "text": [
      " 94%|█████████▍| 56249/59987 [02:49<00:11, 315.16it/s]"
     ]
    },
    {
     "name": "stdout",
     "output_type": "stream",
     "text": [
      "/home/mikhailo/dev/python/made/cv-2020/hw/hw2/data/generated_60k/к793со134.png\n",
      "/home/mikhailo/dev/python/made/cv-2020/hw/hw2/data/generated_60k/к388кр125.png\n"
     ]
    },
    {
     "name": "stderr",
     "output_type": "stream",
     "text": [
      " 94%|█████████▍| 56319/59987 [02:50<00:11, 330.83it/s]"
     ]
    },
    {
     "name": "stdout",
     "output_type": "stream",
     "text": [
      "/home/mikhailo/dev/python/made/cv-2020/hw/hw2/data/generated_60k/м215се10.png\n"
     ]
    },
    {
     "name": "stderr",
     "output_type": "stream",
     "text": [
      " 94%|█████████▍| 56530/59987 [02:50<00:10, 342.39it/s]"
     ]
    },
    {
     "name": "stdout",
     "output_type": "stream",
     "text": [
      "/home/mikhailo/dev/python/made/cv-2020/hw/hw2/data/generated_60k/к045ру41.png\n"
     ]
    },
    {
     "name": "stderr",
     "output_type": "stream",
     "text": [
      " 94%|█████████▍| 56635/59987 [02:51<00:10, 319.87it/s]"
     ]
    },
    {
     "name": "stdout",
     "output_type": "stream",
     "text": [
      "/home/mikhailo/dev/python/made/cv-2020/hw/hw2/data/generated_60k/к508ус06.png\n"
     ]
    },
    {
     "name": "stderr",
     "output_type": "stream",
     "text": [
      " 95%|█████████▍| 56812/59987 [02:51<00:09, 337.35it/s]"
     ]
    },
    {
     "name": "stdout",
     "output_type": "stream",
     "text": [
      "/home/mikhailo/dev/python/made/cv-2020/hw/hw2/data/generated_60k/е649хв70.png\n"
     ]
    },
    {
     "name": "stderr",
     "output_type": "stream",
     "text": [
      " 95%|█████████▍| 56915/59987 [02:51<00:09, 329.17it/s]"
     ]
    },
    {
     "name": "stdout",
     "output_type": "stream",
     "text": [
      "/home/mikhailo/dev/python/made/cv-2020/hw/hw2/data/generated_60k/т085тн16.png\n"
     ]
    },
    {
     "name": "stderr",
     "output_type": "stream",
     "text": [
      " 95%|█████████▌| 57046/59987 [02:52<00:09, 309.17it/s]"
     ]
    },
    {
     "name": "stdout",
     "output_type": "stream",
     "text": [
      "/home/mikhailo/dev/python/made/cv-2020/hw/hw2/data/generated_60k/е036та25.png\n"
     ]
    },
    {
     "name": "stderr",
     "output_type": "stream",
     "text": [
      " 95%|█████████▌| 57215/59987 [02:52<00:08, 325.63it/s]"
     ]
    },
    {
     "name": "stdout",
     "output_type": "stream",
     "text": [
      "/home/mikhailo/dev/python/made/cv-2020/hw/hw2/data/generated_60k/с186вв68.png\n",
      "/home/mikhailo/dev/python/made/cv-2020/hw/hw2/data/generated_60k/х761ве69.png\n"
     ]
    },
    {
     "name": "stderr",
     "output_type": "stream",
     "text": [
      " 96%|█████████▌| 57354/59987 [02:53<00:07, 335.74it/s]"
     ]
    },
    {
     "name": "stdout",
     "output_type": "stream",
     "text": [
      "/home/mikhailo/dev/python/made/cv-2020/hw/hw2/data/generated_60k/у598те14.png\n"
     ]
    },
    {
     "name": "stderr",
     "output_type": "stream",
     "text": [
      " 96%|█████████▌| 57493/59987 [02:53<00:07, 340.67it/s]"
     ]
    },
    {
     "name": "stdout",
     "output_type": "stream",
     "text": [
      "/home/mikhailo/dev/python/made/cv-2020/hw/hw2/data/generated_60k/а474сх64.png\n"
     ]
    },
    {
     "name": "stderr",
     "output_type": "stream",
     "text": [
      " 96%|█████████▌| 57564/59987 [02:53<00:07, 344.95it/s]"
     ]
    },
    {
     "name": "stdout",
     "output_type": "stream",
     "text": [
      "/home/mikhailo/dev/python/made/cv-2020/hw/hw2/data/generated_60k/о441ун16.png\n"
     ]
    },
    {
     "name": "stderr",
     "output_type": "stream",
     "text": [
      " 97%|█████████▋| 58126/59987 [02:55<00:05, 341.40it/s]"
     ]
    },
    {
     "name": "stdout",
     "output_type": "stream",
     "text": [
      "/home/mikhailo/dev/python/made/cv-2020/hw/hw2/data/generated_60k/к259рр05.png\n"
     ]
    },
    {
     "name": "stderr",
     "output_type": "stream",
     "text": [
      " 97%|█████████▋| 58301/59987 [02:56<00:05, 303.51it/s]"
     ]
    },
    {
     "name": "stdout",
     "output_type": "stream",
     "text": [
      "/home/mikhailo/dev/python/made/cv-2020/hw/hw2/data/generated_60k/а408хв99.png\n",
      "/home/mikhailo/dev/python/made/cv-2020/hw/hw2/data/generated_60k/р138рх07.png\n"
     ]
    },
    {
     "name": "stderr",
     "output_type": "stream",
     "text": [
      " 97%|█████████▋| 58368/59987 [02:56<00:05, 315.27it/s]"
     ]
    },
    {
     "name": "stdout",
     "output_type": "stream",
     "text": [
      "/home/mikhailo/dev/python/made/cv-2020/hw/hw2/data/generated_60k/н825ав76.png\n"
     ]
    },
    {
     "name": "stderr",
     "output_type": "stream",
     "text": [
      " 98%|█████████▊| 58794/59987 [02:57<00:03, 349.53it/s]"
     ]
    },
    {
     "name": "stdout",
     "output_type": "stream",
     "text": [
      "/home/mikhailo/dev/python/made/cv-2020/hw/hw2/data/generated_60k/н230ае85.png\n"
     ]
    },
    {
     "name": "stderr",
     "output_type": "stream",
     "text": [
      " 98%|█████████▊| 58937/59987 [02:58<00:03, 344.13it/s]"
     ]
    },
    {
     "name": "stdout",
     "output_type": "stream",
     "text": [
      "/home/mikhailo/dev/python/made/cv-2020/hw/hw2/data/generated_60k/о547нм87.png\n"
     ]
    },
    {
     "name": "stderr",
     "output_type": "stream",
     "text": [
      "100%|█████████▉| 59700/59987 [03:00<00:00, 324.52it/s]"
     ]
    },
    {
     "name": "stdout",
     "output_type": "stream",
     "text": [
      "/home/mikhailo/dev/python/made/cv-2020/hw/hw2/data/generated_60k/р452хе36.png\n"
     ]
    },
    {
     "name": "stderr",
     "output_type": "stream",
     "text": [
      "                                                      \r"
     ]
    }
   ],
   "source": [
    "i = 0\n",
    "for (dirpath, dirnames, filenames) in walk(os.path.join(DATA_PATH, 'generated_60k')):\n",
    "    for i, file in tqdm.tqdm(enumerate(filenames), leave=False, position=0, total=len(filenames)):\n",
    "        img_path = os.path.join(dirpath, file)\n",
    "        img = cv2.imread(img_path)\n",
    "        if img is None:\n",
    "            print(img_path)\n",
    "            continue\n",
    "        img = random_transform(img)\n",
    "        \n",
    "        text, ext = os.path.splitext(file)\n",
    "        text = convert_to_eng(text.upper())  # samples can have russian characters or lower case\n",
    "        if not is_valid_str(text):\n",
    "            print(\"Invalid text\", text)\n",
    "            continue\n",
    "        crop_name = os.path.join(OUT_GEN_PATH, text + \".jpg\")\n",
    "#         print(crop_name)\n",
    "        img.save(crop_name)\n",
    "#         if i > 100:\n",
    "#             break"
   ]
  },
  {
   "cell_type": "code",
   "execution_count": 2,
   "metadata": {},
   "outputs": [],
   "source": [
    "import torchvision.models as models"
   ]
  },
  {
   "cell_type": "code",
   "execution_count": 11,
   "metadata": {},
   "outputs": [],
   "source": [
    "resnet = models.resnet34()\n",
    "cnn = nn.Sequential(*list(resnet.children())[:-2])"
   ]
  },
  {
   "cell_type": "code",
   "execution_count": 13,
   "metadata": {},
   "outputs": [
    {
     "data": {
      "text/plain": [
       "Sequential(\n",
       "  (0): Conv2d(3, 64, kernel_size=(7, 7), stride=(2, 2), padding=(3, 3), bias=False)\n",
       "  (1): BatchNorm2d(64, eps=1e-05, momentum=0.1, affine=True, track_running_stats=True)\n",
       "  (2): ReLU(inplace=True)\n",
       "  (3): MaxPool2d(kernel_size=3, stride=2, padding=1, dilation=1, ceil_mode=False)\n",
       "  (4): Sequential(\n",
       "    (0): BasicBlock(\n",
       "      (conv1): Conv2d(64, 64, kernel_size=(3, 3), stride=(1, 1), padding=(1, 1), bias=False)\n",
       "      (bn1): BatchNorm2d(64, eps=1e-05, momentum=0.1, affine=True, track_running_stats=True)\n",
       "      (relu): ReLU(inplace=True)\n",
       "      (conv2): Conv2d(64, 64, kernel_size=(3, 3), stride=(1, 1), padding=(1, 1), bias=False)\n",
       "      (bn2): BatchNorm2d(64, eps=1e-05, momentum=0.1, affine=True, track_running_stats=True)\n",
       "    )\n",
       "    (1): BasicBlock(\n",
       "      (conv1): Conv2d(64, 64, kernel_size=(3, 3), stride=(1, 1), padding=(1, 1), bias=False)\n",
       "      (bn1): BatchNorm2d(64, eps=1e-05, momentum=0.1, affine=True, track_running_stats=True)\n",
       "      (relu): ReLU(inplace=True)\n",
       "      (conv2): Conv2d(64, 64, kernel_size=(3, 3), stride=(1, 1), padding=(1, 1), bias=False)\n",
       "      (bn2): BatchNorm2d(64, eps=1e-05, momentum=0.1, affine=True, track_running_stats=True)\n",
       "    )\n",
       "    (2): BasicBlock(\n",
       "      (conv1): Conv2d(64, 64, kernel_size=(3, 3), stride=(1, 1), padding=(1, 1), bias=False)\n",
       "      (bn1): BatchNorm2d(64, eps=1e-05, momentum=0.1, affine=True, track_running_stats=True)\n",
       "      (relu): ReLU(inplace=True)\n",
       "      (conv2): Conv2d(64, 64, kernel_size=(3, 3), stride=(1, 1), padding=(1, 1), bias=False)\n",
       "      (bn2): BatchNorm2d(64, eps=1e-05, momentum=0.1, affine=True, track_running_stats=True)\n",
       "    )\n",
       "  )\n",
       "  (5): Sequential(\n",
       "    (0): BasicBlock(\n",
       "      (conv1): Conv2d(64, 128, kernel_size=(3, 3), stride=(2, 2), padding=(1, 1), bias=False)\n",
       "      (bn1): BatchNorm2d(128, eps=1e-05, momentum=0.1, affine=True, track_running_stats=True)\n",
       "      (relu): ReLU(inplace=True)\n",
       "      (conv2): Conv2d(128, 128, kernel_size=(3, 3), stride=(1, 1), padding=(1, 1), bias=False)\n",
       "      (bn2): BatchNorm2d(128, eps=1e-05, momentum=0.1, affine=True, track_running_stats=True)\n",
       "      (downsample): Sequential(\n",
       "        (0): Conv2d(64, 128, kernel_size=(1, 1), stride=(2, 2), bias=False)\n",
       "        (1): BatchNorm2d(128, eps=1e-05, momentum=0.1, affine=True, track_running_stats=True)\n",
       "      )\n",
       "    )\n",
       "    (1): BasicBlock(\n",
       "      (conv1): Conv2d(128, 128, kernel_size=(3, 3), stride=(1, 1), padding=(1, 1), bias=False)\n",
       "      (bn1): BatchNorm2d(128, eps=1e-05, momentum=0.1, affine=True, track_running_stats=True)\n",
       "      (relu): ReLU(inplace=True)\n",
       "      (conv2): Conv2d(128, 128, kernel_size=(3, 3), stride=(1, 1), padding=(1, 1), bias=False)\n",
       "      (bn2): BatchNorm2d(128, eps=1e-05, momentum=0.1, affine=True, track_running_stats=True)\n",
       "    )\n",
       "    (2): BasicBlock(\n",
       "      (conv1): Conv2d(128, 128, kernel_size=(3, 3), stride=(1, 1), padding=(1, 1), bias=False)\n",
       "      (bn1): BatchNorm2d(128, eps=1e-05, momentum=0.1, affine=True, track_running_stats=True)\n",
       "      (relu): ReLU(inplace=True)\n",
       "      (conv2): Conv2d(128, 128, kernel_size=(3, 3), stride=(1, 1), padding=(1, 1), bias=False)\n",
       "      (bn2): BatchNorm2d(128, eps=1e-05, momentum=0.1, affine=True, track_running_stats=True)\n",
       "    )\n",
       "    (3): BasicBlock(\n",
       "      (conv1): Conv2d(128, 128, kernel_size=(3, 3), stride=(1, 1), padding=(1, 1), bias=False)\n",
       "      (bn1): BatchNorm2d(128, eps=1e-05, momentum=0.1, affine=True, track_running_stats=True)\n",
       "      (relu): ReLU(inplace=True)\n",
       "      (conv2): Conv2d(128, 128, kernel_size=(3, 3), stride=(1, 1), padding=(1, 1), bias=False)\n",
       "      (bn2): BatchNorm2d(128, eps=1e-05, momentum=0.1, affine=True, track_running_stats=True)\n",
       "    )\n",
       "  )\n",
       "  (6): Sequential(\n",
       "    (0): BasicBlock(\n",
       "      (conv1): Conv2d(128, 256, kernel_size=(3, 3), stride=(2, 2), padding=(1, 1), bias=False)\n",
       "      (bn1): BatchNorm2d(256, eps=1e-05, momentum=0.1, affine=True, track_running_stats=True)\n",
       "      (relu): ReLU(inplace=True)\n",
       "      (conv2): Conv2d(256, 256, kernel_size=(3, 3), stride=(1, 1), padding=(1, 1), bias=False)\n",
       "      (bn2): BatchNorm2d(256, eps=1e-05, momentum=0.1, affine=True, track_running_stats=True)\n",
       "      (downsample): Sequential(\n",
       "        (0): Conv2d(128, 256, kernel_size=(1, 1), stride=(2, 2), bias=False)\n",
       "        (1): BatchNorm2d(256, eps=1e-05, momentum=0.1, affine=True, track_running_stats=True)\n",
       "      )\n",
       "    )\n",
       "    (1): BasicBlock(\n",
       "      (conv1): Conv2d(256, 256, kernel_size=(3, 3), stride=(1, 1), padding=(1, 1), bias=False)\n",
       "      (bn1): BatchNorm2d(256, eps=1e-05, momentum=0.1, affine=True, track_running_stats=True)\n",
       "      (relu): ReLU(inplace=True)\n",
       "      (conv2): Conv2d(256, 256, kernel_size=(3, 3), stride=(1, 1), padding=(1, 1), bias=False)\n",
       "      (bn2): BatchNorm2d(256, eps=1e-05, momentum=0.1, affine=True, track_running_stats=True)\n",
       "    )\n",
       "    (2): BasicBlock(\n",
       "      (conv1): Conv2d(256, 256, kernel_size=(3, 3), stride=(1, 1), padding=(1, 1), bias=False)\n",
       "      (bn1): BatchNorm2d(256, eps=1e-05, momentum=0.1, affine=True, track_running_stats=True)\n",
       "      (relu): ReLU(inplace=True)\n",
       "      (conv2): Conv2d(256, 256, kernel_size=(3, 3), stride=(1, 1), padding=(1, 1), bias=False)\n",
       "      (bn2): BatchNorm2d(256, eps=1e-05, momentum=0.1, affine=True, track_running_stats=True)\n",
       "    )\n",
       "    (3): BasicBlock(\n",
       "      (conv1): Conv2d(256, 256, kernel_size=(3, 3), stride=(1, 1), padding=(1, 1), bias=False)\n",
       "      (bn1): BatchNorm2d(256, eps=1e-05, momentum=0.1, affine=True, track_running_stats=True)\n",
       "      (relu): ReLU(inplace=True)\n",
       "      (conv2): Conv2d(256, 256, kernel_size=(3, 3), stride=(1, 1), padding=(1, 1), bias=False)\n",
       "      (bn2): BatchNorm2d(256, eps=1e-05, momentum=0.1, affine=True, track_running_stats=True)\n",
       "    )\n",
       "    (4): BasicBlock(\n",
       "      (conv1): Conv2d(256, 256, kernel_size=(3, 3), stride=(1, 1), padding=(1, 1), bias=False)\n",
       "      (bn1): BatchNorm2d(256, eps=1e-05, momentum=0.1, affine=True, track_running_stats=True)\n",
       "      (relu): ReLU(inplace=True)\n",
       "      (conv2): Conv2d(256, 256, kernel_size=(3, 3), stride=(1, 1), padding=(1, 1), bias=False)\n",
       "      (bn2): BatchNorm2d(256, eps=1e-05, momentum=0.1, affine=True, track_running_stats=True)\n",
       "    )\n",
       "    (5): BasicBlock(\n",
       "      (conv1): Conv2d(256, 256, kernel_size=(3, 3), stride=(1, 1), padding=(1, 1), bias=False)\n",
       "      (bn1): BatchNorm2d(256, eps=1e-05, momentum=0.1, affine=True, track_running_stats=True)\n",
       "      (relu): ReLU(inplace=True)\n",
       "      (conv2): Conv2d(256, 256, kernel_size=(3, 3), stride=(1, 1), padding=(1, 1), bias=False)\n",
       "      (bn2): BatchNorm2d(256, eps=1e-05, momentum=0.1, affine=True, track_running_stats=True)\n",
       "    )\n",
       "  )\n",
       "  (7): Sequential(\n",
       "    (0): BasicBlock(\n",
       "      (conv1): Conv2d(256, 512, kernel_size=(3, 3), stride=(2, 2), padding=(1, 1), bias=False)\n",
       "      (bn1): BatchNorm2d(512, eps=1e-05, momentum=0.1, affine=True, track_running_stats=True)\n",
       "      (relu): ReLU(inplace=True)\n",
       "      (conv2): Conv2d(512, 512, kernel_size=(3, 3), stride=(1, 1), padding=(1, 1), bias=False)\n",
       "      (bn2): BatchNorm2d(512, eps=1e-05, momentum=0.1, affine=True, track_running_stats=True)\n",
       "      (downsample): Sequential(\n",
       "        (0): Conv2d(256, 512, kernel_size=(1, 1), stride=(2, 2), bias=False)\n",
       "        (1): BatchNorm2d(512, eps=1e-05, momentum=0.1, affine=True, track_running_stats=True)\n",
       "      )\n",
       "    )\n",
       "    (1): BasicBlock(\n",
       "      (conv1): Conv2d(512, 512, kernel_size=(3, 3), stride=(1, 1), padding=(1, 1), bias=False)\n",
       "      (bn1): BatchNorm2d(512, eps=1e-05, momentum=0.1, affine=True, track_running_stats=True)\n",
       "      (relu): ReLU(inplace=True)\n",
       "      (conv2): Conv2d(512, 512, kernel_size=(3, 3), stride=(1, 1), padding=(1, 1), bias=False)\n",
       "      (bn2): BatchNorm2d(512, eps=1e-05, momentum=0.1, affine=True, track_running_stats=True)\n",
       "    )\n",
       "    (2): BasicBlock(\n",
       "      (conv1): Conv2d(512, 512, kernel_size=(3, 3), stride=(1, 1), padding=(1, 1), bias=False)\n",
       "      (bn1): BatchNorm2d(512, eps=1e-05, momentum=0.1, affine=True, track_running_stats=True)\n",
       "      (relu): ReLU(inplace=True)\n",
       "      (conv2): Conv2d(512, 512, kernel_size=(3, 3), stride=(1, 1), padding=(1, 1), bias=False)\n",
       "      (bn2): BatchNorm2d(512, eps=1e-05, momentum=0.1, affine=True, track_running_stats=True)\n",
       "    )\n",
       "  )\n",
       ")"
      ]
     },
     "execution_count": 13,
     "metadata": {},
     "output_type": "execute_result"
    }
   ],
   "source": [
    "cnn"
   ]
  },
  {
   "cell_type": "code",
   "execution_count": 16,
   "metadata": {},
   "outputs": [
    {
     "data": {
      "text/plain": [
       "512"
      ]
     },
     "execution_count": 16,
     "metadata": {},
     "output_type": "execute_result"
    }
   ],
   "source": [
    "cnn[-1][-1].bn2.num_features"
   ]
  },
  {
   "cell_type": "code",
   "execution_count": null,
   "metadata": {},
   "outputs": [],
   "source": [
    "import numpy as np\n",
    "import torch\n",
    "from torch import nn\n",
    "from torchvision import models\n",
    "from .common import abc\n",
    "\n",
    "\n",
    "class RecognitionModel(nn.Module):\n",
    "    def __init__(self, dropout=0.3, num_directions=1):\n",
    "        # see workshop #9 for more details\n",
    "        # (https://github.com/BorisLestsov/MADE/blob/master/seminar9-carocr/9%20-%20crnn%20-%20completed.ipynb)\n",
    "        super(RecognitionModel, self).__init__()\n",
    "        self.abc = abc\n",
    "        self.num_classes = len(self.abc)\n",
    "        self.num_directions = num_directions\n",
    "\n",
    "        resnet = getattr(models, 'resnet50')(pretrained=True) # TODO: is it most optimal choice ?\n",
    "        self.cnn = nn.Sequential(*list(resnet.children())[:-2])\n",
    "\n",
    "        self.proj = nn.Conv2d(10, 24, kernel_size=1)\n",
    "        # TODO: move these parameters to the constructor function in order experiment using factories & configs\n",
    "        # TODO: try other RNNs or even CNNs, if you've got enough time\n",
    "        self.rnn = nn.GRU(input_size=512,\n",
    "                          hidden_size=128,\n",
    "                          num_layers=2,\n",
    "                          batch_first=False,\n",
    "                          dropout=dropout,\n",
    "                          bidirectional=(num_directions == 2))\n",
    "\n",
    "        self.linear = nn.Linear(128 * num_directions, len(abc)+1, bias=False)\n",
    "        self.softmax = nn.Softmax(dim=2)\n",
    "        \n",
    "    def init_hidden(self, batch_size, device):\n",
    "        hidden = torch.zeros(self.rnn.num_layers * self.num_directions,\n",
    "                             batch_size,\n",
    "                             self.rnn.hidden_size)\n",
    "        hidden = hidden.to(device)\n",
    "        return hidden\n",
    "\n",
    "    def forward(self, x, decode=False):\n",
    "        hidden = self.init_hidden(x.size(0), next(self.parameters()).device)\n",
    "        features = self.cnn(x)\n",
    "        sequence = self.features_to_sequence(features)\n",
    "        sequence, hidden = self.rnn(sequence, hidden)\n",
    "        sequence = self.linear(sequence)\n",
    "\n",
    "        if not self.training:\n",
    "            sequence = self.softmax(sequence)\n",
    "            if decode:\n",
    "                sequence = self.decode(sequence)\n",
    "\n",
    "        return sequence\n",
    "\n",
    "    def features_to_sequence(self, features):\n",
    "        b, c, h, w = features.size()\n",
    "        assert h == 1, '1 != {}'.format(h)\n",
    "        features = features.permute(0, 3, 2, 1).contiguous()\n",
    "        features = self.proj(features)\n",
    "        features = features.permute(1, 0, 2, 3).contiguous()\n",
    "        features = features.squeeze(2)\n",
    "        return features\n",
    "\n",
    "    def get_block_size(self, layer):\n",
    "        return layer[-1][-1].bn2.weight.size()[0]\n",
    "\n",
    "    def pred_to_string(self, pred):\n",
    "        seq = []\n",
    "        for i in range(len(pred)):\n",
    "            label = np.argmax(pred[i])\n",
    "            seq.append(label - 1)\n",
    "        out = []\n",
    "        for i in range(len(seq)):\n",
    "            if len(out) == 0:\n",
    "                if seq[i] != -1:\n",
    "                    out.append(seq[i])\n",
    "            else:\n",
    "                if seq[i] != -1 and seq[i] != seq[i - 1]:\n",
    "                    out.append(seq[i])\n",
    "        out = ''.join([self.abc[c] for c in out])\n",
    "        return out\n",
    "\n",
    "    def decode(self, pred):\n",
    "        pred = pred.permute(1, 0, 2).cpu().data.numpy()\n",
    "        outputs = []\n",
    "        for i in range(len(pred)):\n",
    "            outputs.append(self.pred_to_string(pred[i]))\n",
    "        return outputs\n"
   ]
  }
 ],
 "metadata": {
  "kernelspec": {
   "display_name": "Python 3",
   "language": "python",
   "name": "python3"
  },
  "language_info": {
   "codemirror_mode": {
    "name": "ipython",
    "version": 3
   },
   "file_extension": ".py",
   "mimetype": "text/x-python",
   "name": "python",
   "nbconvert_exporter": "python",
   "pygments_lexer": "ipython3",
   "version": "3.7.7"
  }
 },
 "nbformat": 4,
 "nbformat_minor": 4
}
